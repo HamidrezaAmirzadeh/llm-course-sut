{
  "cells": [
    {
      "cell_type": "markdown",
      "metadata": {
        "id": "viBM9_mkFWKo"
      },
      "source": [
        "# Homework 2 Part 2\n",
        "\n",
        "## Course Name: Large Language Models\n",
        "#### Lecturers: Dr. Soleimani, Dr. Rohban, Dr. Asgari\n",
        "\n",
        "---\n",
        "\n",
        "#### Notebooks Supervised By: MohammadAli SadraeiJavaheri, Omid Ghahroodi\n",
        "#### Notebook Prepared By: Mahdi Zakizadeh, Ali Razghandi\n",
        "\n",
        "**Contact**: Ask your questions in Quera\n",
        "\n",
        "---\n",
        "\n",
        "### Instructions:\n",
        "- Complete all exercises presented in this notebook.\n",
        "- Ensure you run each cell after you've entered your solution.\n",
        "- After completing the exercises, save the notebook and <font color='red'>follow the submission guidelines provided in the PDF.</font>\n",
        "\n",
        "\n",
        "---\n",
        "\n",
        "**Note**: Replace the placeholders (between <font color=\"green\">`## Your code begins ##`</font> and <font color=\"green\">`## Your code ends ##`</font>) with the appropriate details.\n"
      ]
    },
    {
      "cell_type": "markdown",
      "metadata": {
        "id": "JwMRx9vOF2H4"
      },
      "source": [
        "## 1. Introduction\n",
        "\n",
        "The advent of Large Language Models (LLMs) has undeniably shifted the paradigm in the realm of natural language processing, offering capabilities that inch closer to human-like text understanding and generation. Among the vanguards of this shift is the Llama-2 model, a behemoth trained on diverse text corpora, promising adeptness in various NLP tasks. However, as we usher into this era of seemingly intelligent machines, a pertinent question arises - do these models truly understand the text, or do they merely excel in retrieving memorized pieces of information from their training data? This inquiry is not merely academic; the implications of the findings reverberate through the practical applications and the future trajectory of LLMs. In exploring the reasoning capabilities of Large Language Models, a noteworthy investigation was carried out by [Saparov and He](https://openreview.net/pdf?id=qFVVBzXxR2V). Their analytical journey led to the revelation that these models, to a significant extent, harness the knowledge acquired during the pre-training phase when confronted with reasoning tasks. Characterized as \"greedy reasoners,\" these models exhibit a propensity to rely on the reservoir of memorized information, as opposed to showcasing authentic reasoning abilities.\n",
        "\n",
        "Our exploration is set against the backdrop of the SQuAD dataset, a well-regarded benchmark in the question-answering domain. The choice of SQuAD is motivated by its structured evaluation metrics which offer a tangible measure of a model's ability to retrieve and reason over text. While SQuAD has been instrumental in driving progress in question answering, its conventional usage may not fully expose the nuanced capabilities of models like Llama-2. This homework aims to delve deeper by constructing adversarial datasets that challenge the model beyond mere retrieval, probing its ability to reason and refer to the provided context accurately. Through a systematic evaluation on both the original and adversarially-modified versions of the SQuAD dataset, we aspire to dissect the retrieval and reasoning prowess of Llama-2, shedding light on the model's strengths, weaknesses, and the path towards more robust and interpretable LLMs.\n",
        "\n",
        "Let's begin by setting up our workspace and loading the Llama-2 model to explore its capabilities.\n",
        "\n"
      ]
    },
    {
      "cell_type": "code",
      "execution_count": 31,
      "metadata": {
        "cellView": "form",
        "id": "4jBgrqILlaRM"
      },
      "outputs": [],
      "source": [
        "# @title Environment Setup\n",
        "# Note: Do NOT make changes to this block.\n",
        "# ----------------\n",
        "%pip install ctransformers[cuda]>=0.2.24 transformers datasets\n",
        "!apt-get -y install -qq aria2\n",
        "\n",
        "from IPython.display import clear_output\n",
        "import numpy as np\n",
        "import random\n",
        "import spacy\n",
        "import transformers\n",
        "from tqdm.notebook import tqdm\n",
        "\n",
        "SEED=21\n",
        "\n",
        "np.random.seed(SEED)\n",
        "random.seed(SEED)\n",
        "\n",
        "!aria2c --console-log-level=error -c -x 16 -s 16 -k 1M https://huggingface.co/TheBloke/Llama-2-7b-Chat-GGUF/resolve/main/llama-2-7b-chat.Q5_K_M.gguf -d /content/models -o llama-2-7b-chat.Q5_K_M.gguf\n",
        "\n",
        "clear_output()\n",
        "# ----------------"
      ]
    },
    {
      "cell_type": "code",
      "execution_count": null,
      "metadata": {
        "cellView": "form",
        "id": "SvdKtpt2myRo"
      },
      "outputs": [],
      "source": [
        "# @title Model Initialization\n",
        "gpu_layers = 200000\n",
        "context_length = 2048\n",
        "\n",
        "from ctransformers import AutoModelForCausalLM\n",
        "\n",
        "llm = AutoModelForCausalLM.from_pretrained(\n",
        "    \"TheBloke/Llama-2-13B-GGUF\",\n",
        "    model_file=\"/content/models/llama-2-7b-chat.Q5_K_M.gguf\",\n",
        "    model_type=\"llama\",\n",
        "    gpu_layers=gpu_layers,\n",
        "    context_length=context_length,\n",
        ")\n",
        "\n",
        "prompt_template = \"\"\"\n",
        "[INST] <<SYS>\n",
        "%s\n",
        "<</SYS>>\n",
        "%s[/INST]\n",
        "\"\"\"\n",
        "\n",
        "clear_output()"
      ]
    },
    {
      "cell_type": "markdown",
      "metadata": {
        "id": "IX43KiPVKOyg"
      },
      "source": [
        "Now, it's a good practice to test the model with some inputs to get a feel for its responses before diving into the core analysis.\n"
      ]
    },
    {
      "cell_type": "code",
      "execution_count": null,
      "metadata": {
        "colab": {
          "base_uri": "https://localhost:8080/",
          "height": 36
        },
        "id": "qKAIyhopCBf5",
        "outputId": "7ad6f0c5-f1cb-4ced-e88c-a2724fa2e99a"
      },
      "outputs": [
        {
          "output_type": "execute_result",
          "data": {
            "text/plain": [
              "'Not enough info.'"
            ],
            "application/vnd.google.colaboratory.intrinsic+json": {
              "type": "string"
            }
          },
          "metadata": {},
          "execution_count": 4
        }
      ],
      "source": [
        "# @title Let's Test the Model\n",
        "preprompt = \"Your job is to answer the users' question accurately according to the context in shortest way possible. If the answer is not present in the provided context by the user, refuse to answer and yield \\\\\\\"Not enough info.\\\\\\\" If the answer is present in the context, only return the part of the context relevant to the question. The shorter your answer be, the more score you receive, even if you write a one word instead of a full sentence. Answering based on your prior knowledge is not considered as a good thing.\" # @param {type:\"string\"}\n",
        "test_input = \"Who is the current president of Iran?\" # @param {type:\"string\"}\n",
        "\n",
        "llm(prompt_template % (preprompt, test_input))\n"
      ]
    },
    {
      "cell_type": "markdown",
      "metadata": {
        "id": "zk_ztg5fPjrd"
      },
      "source": [
        "### 2.1. Metrics\n",
        "\n",
        "Evaluating the performance of Large Language Models (LLMs) on question-answering tasks necessitates employing metrics that accurately reflect the models' ability to provide correct and precise answers. Two widely acknowledged metrics for this purpose are Exact Match (EM) and F1 Score, which offer a lens through which the accuracy and the overall quality of the model’s responses can be gauged.\n",
        "\n",
        "1. **Exact Match (EM)**:\n",
        "   - The Exact Match metric measures the percentage of responses that match the ground truth answers exactly. It is a stringent metric that requires the predicted answer to be identical to the ground truth answer.\n",
        "   - Mathematical Equation:\n",
        "$\\text{EM} = \\left( \\frac{\\text{Number of exact matches}}{\\text{Total number of questions}} \\right) \\times 100$\n",
        "\n",
        "   - Example:\n",
        "     Suppose we have $5$ questions, and the model answers $3$ of them exactly as in the ground truth. The EM score would be $(3/5) \\times 100 = 60 \\\\% $.\n",
        "\n"
      ]
    },
    {
      "cell_type": "code",
      "execution_count": null,
      "metadata": {
        "id": "tGC7dWSVFM2Q"
      },
      "outputs": [],
      "source": [
        "def compute_exact_match_score(predictions: list[str], ground_truths: list[list[str]]):\n",
        "    exact_match_score = 0\n",
        "    for prediction, ground_truth in zip(predictions, ground_truths):\n",
        "        prediction = prediction.lower().strip()\n",
        "        exact_match_score += any(gt.lower().strip() == prediction for gt in ground_truth)\n",
        "    em_percentage = (exact_match_score / len(predictions)) * 100\n",
        "    return em_percentage"
      ]
    },
    {
      "cell_type": "markdown",
      "metadata": {
        "id": "88dqp5_CbOSG"
      },
      "source": [
        "2. **F1 Score**:\n",
        "   - The F1 Score is the harmonic mean of precision and recall, providing a balance between the two. It measures the overlap between the predicted answers and the ground truth, considering both the words that were correctly included and those that were omitted or added incorrectly.\n",
        "   - Mathematical Equations:\n",
        "   \n",
        "  \\begin{align}\n",
        "  \\text{Precision} = \\frac{\\text{Number of true positive words}}{\\text{(Number of true positive words + Number of false positive words)}}\n",
        "  \\end{align}\n",
        "\n",
        "  \\begin{align}\n",
        "  \\text{Recall} = \\frac{\\text{Number of true positive words}}{\\text{(Number of true positive words + Number of false negative words)}}\n",
        "  \\end{align}\n",
        "\n",
        "  \\begin{align}\n",
        "  \\text{F1 Score} = 2 \\times \\left( \\frac{\\text{Precision} \\times \\text{Recall}}{\\text{Precision} + \\text{Recall}} \\right)\n",
        "  \\end{align}\n",
        "  \n",
        "   - Example:\n",
        "     Suppose a predicted answer contains $4$ correct words out of $5$ total words, but misses $2$ words that are in the ground truth answer. The precision would be $4/(4+1) = 0.8$, the recall would be $4/(4+2) = 0.67$, and the F1 Score would be $2 \\times (0.8 \\times 0.67)/(0.8 + 0.67) ≈ 0.73$.\n",
        "\n",
        "These metrics provide a nuanced view of the model's performance, offering insights into not only how often the model is correct (EM), but also how well it captures the nuances of the ground truth answers (F1 Score). Through these metrics, the evaluation phase aims to paint a comprehensive picture of the model's proficiency in the question-answering task amidst the structured framework provided by the SQuAD dataset."
      ]
    },
    {
      "cell_type": "code",
      "execution_count": null,
      "metadata": {
        "id": "Oa2VDOU8bNos"
      },
      "outputs": [],
      "source": [
        "def compute_f1_score(predictions: list[str], ground_truths: list[list[str]]):\n",
        "    total_f1_score = 0\n",
        "    for prediction, ground_truth in zip(predictions, ground_truths):\n",
        "        prediction_words = prediction.lower().strip().split()\n",
        "        best_f1 = 0\n",
        "        for gt in ground_truth:\n",
        "            gt_words = gt.lower().strip().split()\n",
        "            common_words_count = sum(1 for word in prediction_words if word in gt_words)\n",
        "            precision = common_words_count / len(prediction_words)\n",
        "            recall = common_words_count / len(gt_words)\n",
        "            f1 = (2 * precision * recall) / (precision + recall) if (precision + recall) > 0 else 0\n",
        "            best_f1 = max(best_f1, f1)\n",
        "        total_f1_score += best_f1\n",
        "    average_f1_score = total_f1_score / len(predictions)\n",
        "    return average_f1_score\n"
      ]
    },
    {
      "cell_type": "markdown",
      "metadata": {
        "id": "0x-awjXFDNKA"
      },
      "source": [
        "### 2.2. Loading the Dataset and Evaluating the Model\n",
        "\n",
        "Now, let's put the model to the test on the vanilla dataset to see how it performs. The steps we are going to follow are quite straightforward: First, we'll load up the dataset, and then we'll feed it to the model and evaluate the results using the score functions you've implemented earlier. To keep things manageable and ensure a quick run time, we'll use a subset of the SQuAD dataset for this evaluation.\n",
        "\n",
        "In the following step, we'll load a subset of the SQuAD dataset which will be used for evaluating the model. This dataset contains a variety of questions along with the correct answers which we'll compare against the model's responses. After running the code block, you should see a sample row from the dataset, giving you a glimpse of the kind of questions and answers it contains."
      ]
    },
    {
      "cell_type": "code",
      "source": [
        "!pip install datasets"
      ],
      "metadata": {
        "id": "lGQwaWKu_ufU"
      },
      "execution_count": null,
      "outputs": []
    },
    {
      "cell_type": "code",
      "execution_count": 4,
      "metadata": {
        "colab": {
          "base_uri": "https://localhost:8080/"
        },
        "id": "VEaeIR7nM8Qu",
        "outputId": "f4639f32-b108-4337-e418-d04712b8aabb"
      },
      "outputs": [
        {
          "output_type": "execute_result",
          "data": {
            "text/plain": [
              "{'id': '56be4db0acb8001400a502ec',\n",
              " 'title': 'Super_Bowl_50',\n",
              " 'context': 'Super Bowl 50 was an American football game to determine the champion of the National Football League (NFL) for the 2015 season. The American Football Conference (AFC) champion Denver Broncos defeated the National Football Conference (NFC) champion Carolina Panthers 24–10 to earn their third Super Bowl title. The game was played on February 7, 2016, at Levi\\'s Stadium in the San Francisco Bay Area at Santa Clara, California. As this was the 50th Super Bowl, the league emphasized the \"golden anniversary\" with various gold-themed initiatives, as well as temporarily suspending the tradition of naming each Super Bowl game with Roman numerals (under which the game would have been known as \"Super Bowl L\"), so that the logo could prominently feature the Arabic numerals 50.',\n",
              " 'question': 'Which NFL team represented the AFC at Super Bowl 50?',\n",
              " 'answers': {'text': ['Denver Broncos', 'Denver Broncos', 'Denver Broncos'],\n",
              "  'answer_start': [177, 177, 177]}}"
            ]
          },
          "metadata": {},
          "execution_count": 4
        }
      ],
      "source": [
        "# @title Loading the SQuAD Dataset Subset\n",
        "from datasets import load_dataset\n",
        "dataset = load_dataset('squad', split=\"validation\")\n",
        "dataset_test = dataset.shard(num_shards=10, index=0)\n",
        "\n",
        "clear_output()\n",
        "dataset_test[0]"
      ]
    },
    {
      "cell_type": "markdown",
      "metadata": {
        "id": "15yF-T_8BLMU"
      },
      "source": [
        "With the dataset ready, it's time to see how Llama-2 fares. We'll feed the questions from the dataset to the model and collect its answers. Then, we'll use the score functions to calculate the Exact Match and F1 scores for each response, giving us a clear picture of the model's performance on this dataset."
      ]
    },
    {
      "cell_type": "code",
      "source": [
        "# @title Evaluating Llama-2 on the Dataset\n",
        "predictions = []\n",
        "ground_truths = []\n",
        "\n",
        "for example in tqdm(dataset_test):\n",
        "    input_text = f\"Question: {example['question']} Context: {example['context']}\"\n",
        "    output_text = llm(prompt_template % (preprompt, input_text))\n",
        "    predictions.append(output_text)\n",
        "    ground_truths.append(example['answers']['text'])\n",
        "\n",
        "em_score = compute_exact_match_score(predictions, ground_truths),\n",
        "f1_score = compute_f1_score(predictions, ground_truths)\n",
        "\n",
        "print(f\"EM Score={em_score}, F1 Score={f1_score}\")"
      ],
      "metadata": {
        "colab": {
          "base_uri": "https://localhost:8080/",
          "height": 67,
          "referenced_widgets": [
            "cda69edadf234e55b4b5ddfde1a10518",
            "90b5c50f1a8f4eeaa52cba5bd78f2e07",
            "4a4d44b3399b45019dd5fca6c92c2139",
            "21922c7e8617465ba158b1026c641c9f",
            "4608ea1e1843469abbfbb354dcd94370",
            "b6fcbafea8fa4cb7a321cff24a656042",
            "7cfbc20c3ecc4b96ab8eaee0d6c61ea4",
            "1fdd12ade7fa4cc5b2f18c925f25da35",
            "df62628bd63048feb3875bf39c2edc98",
            "230dc541617945d18f5984168e42a0c4",
            "510d3b6dbf0948d488dda2466c126719"
          ]
        },
        "id": "1ObwOotQNvci",
        "outputId": "f5319ace-4533-4565-dea5-0980d8102500"
      },
      "execution_count": null,
      "outputs": [
        {
          "output_type": "display_data",
          "data": {
            "text/plain": [
              "  0%|          | 0/1057 [00:00<?, ?it/s]"
            ],
            "application/vnd.jupyter.widget-view+json": {
              "version_major": 2,
              "version_minor": 0,
              "model_id": "cda69edadf234e55b4b5ddfde1a10518"
            }
          },
          "metadata": {}
        },
        {
          "output_type": "stream",
          "name": "stdout",
          "text": [
            "EM Score=(16.93472090823084,), F1 Score=0.3671884374572664\n"
          ]
        }
      ]
    },
    {
      "cell_type": "code",
      "source": [
        "import pickle\n",
        "\n",
        "# Save the list to a file using pickle\n",
        "with open('predictions.pkl', 'wb') as f:\n",
        "    pickle.dump(predictions, f)"
      ],
      "metadata": {
        "id": "-EFV-alwdAuU"
      },
      "execution_count": null,
      "outputs": []
    },
    {
      "cell_type": "markdown",
      "metadata": {
        "id": "mlscEL_aBP4F"
      },
      "source": [
        "Having seen how the model performs on the vanilla dataset, let’s delve into some analytical reflections:\n",
        "1. <font color=\"green\"> What do you think is the better metric for evaluating Llama-2 on this dataset and why? </font>\n",
        "2. <font color=\"green\"> How can preprompt text affect the evaluation and the model's performance? </font>\n"
      ]
    },
    {
      "cell_type": "code",
      "source": [
        "dataset_test[12]"
      ],
      "metadata": {
        "colab": {
          "base_uri": "https://localhost:8080/"
        },
        "id": "yPD9bSPLBeEg",
        "outputId": "924a7f81-a741-4c1e-e53e-c28538ed6def"
      },
      "execution_count": null,
      "outputs": [
        {
          "output_type": "execute_result",
          "data": {
            "text/plain": [
              "{'id': '56beb03c3aeaaa14008c920b',\n",
              " 'title': 'Super_Bowl_50',\n",
              " 'context': \"The league eventually narrowed the bids to three sites: New Orleans' Mercedes-Benz Superdome, Miami's Sun Life Stadium, and the San Francisco Bay Area's Levi's Stadium.\",\n",
              " 'question': 'What venue in Miami was a candidate for the site of Super Bowl 50?',\n",
              " 'answers': {'text': ['Sun Life Stadium',\n",
              "   'Sun Life Stadium',\n",
              "   'Sun Life Stadium'],\n",
              "  'answer_start': [102, 102, 102]}}"
            ]
          },
          "metadata": {},
          "execution_count": 16
        }
      ]
    },
    {
      "cell_type": "code",
      "source": [
        "predictions[12]"
      ],
      "metadata": {
        "colab": {
          "base_uri": "https://localhost:8080/",
          "height": 36
        },
        "id": "-VtlONJCBg3w",
        "outputId": "461d11d9-9a38-4c63-8b4c-81b0c546448a"
      },
      "execution_count": null,
      "outputs": [
        {
          "output_type": "execute_result",
          "data": {
            "text/plain": [
              "\"Miami's Sun Life Stadium.\""
            ],
            "application/vnd.google.colaboratory.intrinsic+json": {
              "type": "string"
            }
          },
          "metadata": {},
          "execution_count": 17
        }
      ]
    },
    {
      "cell_type": "markdown",
      "source": [
        "Please refer to the report."
      ],
      "metadata": {
        "id": "i9X8t7S-fE-T"
      }
    },
    {
      "cell_type": "markdown",
      "metadata": {
        "id": "JO4K33hL1EC1"
      },
      "source": [
        "## 3. Adversarial Dataset Construction\n",
        "\n",
        "In this section, we venture into the realm of adversarial evaluation to delve deeper into the abilities of the Llama-2 model. The objective is to scrutinize how the model responds to scenarios that are crafted to challenge its reasoning and retrieval capacities. We propose three methods to create adversarial datasets, each aimed at examining different facets of the model's behavior.\n",
        "\n",
        "1. **Answer Absence**: In this method, we modify the SQuAD dataset by crafting questions for which the answers do not exist in the provided context.\n",
        "\n",
        "2. **Entity Substitution**: Here, we substitute entity words in the context with other entities to test whether the model relies on retrieval or refers to the context accurately for answering the question. For instance, changing the context from \"The president of the USA lives in the White House. Barack Obama is the current president of the USA.\" to \"The president of the USA lives in the White House. Gall Granuaile is the current president of the USA.\" and observing if the answer changes appropriately.\n",
        "\n",
        "3. **Nonsense Word Substitution**: In this method, we replace certain words or entities with nonsensical words in a consistent and meaningful way, defining the nonsense words before asking the question. For example, replacing \"White House\" with \"Glibber House\" and explaining that \"Glibber\" means \"White\".\n",
        "\n",
        "Before embarking on the evaluation using adversarial datasets, we encourage students to ponder upon a few analytical questions:\n",
        "<font color=\"green\">\n",
        "\n",
        "3. What is your expectation regarding the model's performance on these adversarial datasets?\n",
        "4. How might the model's behavior on standard versus adversarial datasets inform us about its reasoning and retrieval abilities?\n",
        "\n",
        "</font>"
      ]
    },
    {
      "cell_type": "markdown",
      "source": [
        "Please refer to the report."
      ],
      "metadata": {
        "id": "_TZq-2bhlpeG"
      }
    },
    {
      "cell_type": "markdown",
      "metadata": {
        "id": "vFS9VMsfA8Yl"
      },
      "source": [
        "### 3.1. Answer Absence"
      ]
    },
    {
      "cell_type": "markdown",
      "metadata": {
        "id": "U5Tsz1Ov9NWc"
      },
      "source": [
        "#### Modifying the Dataset\n",
        "\n",
        "For this section we need to modify the original dataset in the way that for each example there will be a new context that is totally different with the original context of the example.\n",
        "\n",
        "To do so, we suggest that you use the title feature in each example and then swap the context between examples that do not have the same title.\n",
        "\n",
        "*  Of course, this is just a suggestion and you can feel free to implement this section as you desire, as long as it meets the required criteria.\n",
        "\n",
        "Some key points:\n",
        "\n",
        "*   The goal is for each example to have a new context that differs from the original.\n",
        "* Using the title of each example is one potential way to pair up examples for swapping contexts.\n",
        "* Feel free to use any approach for generating new contexts as long as they meaningfully differ from the originals.\n",
        "* The modified dataset should meet the specifications and requirements for the assignment.\n",
        "* Be creative in how you modify the contexts - the approach suggested is just one option.\n",
        "\n",
        "\n",
        "    "
      ]
    },
    {
      "cell_type": "code",
      "execution_count": null,
      "metadata": {
        "colab": {
          "base_uri": "https://localhost:8080/",
          "height": 49,
          "referenced_widgets": [
            "ec0d16b50c7b4e88ae30a2da3ae0cb19",
            "02314f450f0546518de217cf1c4d0a0c",
            "51e56713411648c4825faec26560873b",
            "3824b3b253fb423aabd346a877389d8e",
            "8f88d6f48f2e47b5b7f4f2b71e7f2b3c",
            "d62685e05a164b138cbabb0a631c2e6e",
            "0fd52e415c834fe3917cb59b1f0acc75",
            "fe0b2725a96847a1ad6860aff117e06d",
            "2d3cfe2097e84e5397f7db0b94b50de7",
            "7eb98cc772bd454eb51763da48613c8c",
            "04e10d5425aa41d8a0372e2c545e225b"
          ]
        },
        "id": "sLFp2RNyy0xX",
        "outputId": "8c080480-6377-4c28-e63e-94774937effe"
      },
      "outputs": [
        {
          "output_type": "display_data",
          "data": {
            "text/plain": [
              "Map:   0%|          | 0/1057 [00:00<?, ? examples/s]"
            ],
            "application/vnd.jupyter.widget-view+json": {
              "version_major": 2,
              "version_minor": 0,
              "model_id": "ec0d16b50c7b4e88ae30a2da3ae0cb19"
            }
          },
          "metadata": {}
        }
      ],
      "source": [
        "from collections import defaultdict\n",
        "original_group_contexts = defaultdict(list)\n",
        "for ex in dataset_test:\n",
        "   original_group_contexts[ex['title']].append(ex['context'])\n",
        "\n",
        "## Your code begins ##\n",
        "np.random.seed(SEED)\n",
        "keys_list = list(original_group_contexts.keys())\n",
        "values_list = list(original_group_contexts.values())\n",
        "np.random.shuffle(values_list)\n",
        "adversarial_group_contexts = {key: value for key,value in zip(keys_list,values_list)}\n",
        "## Your code ends ##\n",
        "\n",
        "def create_adversarial_example(example):\n",
        "    ## Your code begins ##\n",
        "    title = example['title']\n",
        "    adversarial_context = np.random.choice(adversarial_group_contexts[title])\n",
        "    adversarial_example = {\n",
        "        'title': title,\n",
        "        'context': example['context'],\n",
        "        'new_context': adversarial_context,\n",
        "        'question': example['question'],\n",
        "        'answers': example['answers']\n",
        "    }\n",
        "    return adversarial_example\n",
        "    ## Your code ends ##\n",
        "\n",
        "shuffled_context_dataset = dataset_test.map(create_adversarial_example)"
      ]
    },
    {
      "cell_type": "code",
      "execution_count": null,
      "metadata": {
        "id": "WIUavi1OFtz4"
      },
      "outputs": [],
      "source": [
        "for ex in shuffled_context_dataset:\n",
        "    assert(ex['context'] != ex['new_context'])"
      ]
    },
    {
      "cell_type": "code",
      "execution_count": null,
      "metadata": {
        "colab": {
          "base_uri": "https://localhost:8080/"
        },
        "id": "PbblYdBgFmvt",
        "outputId": "4b36e49a-e74f-4e7f-c852-9d22427564de"
      },
      "outputs": [
        {
          "output_type": "execute_result",
          "data": {
            "text/plain": [
              "{'id': '56be4db0acb8001400a502ec',\n",
              " 'title': 'Super_Bowl_50',\n",
              " 'context': 'Super Bowl 50 was an American football game to determine the champion of the National Football League (NFL) for the 2015 season. The American Football Conference (AFC) champion Denver Broncos defeated the National Football Conference (NFC) champion Carolina Panthers 24–10 to earn their third Super Bowl title. The game was played on February 7, 2016, at Levi\\'s Stadium in the San Francisco Bay Area at Santa Clara, California. As this was the 50th Super Bowl, the league emphasized the \"golden anniversary\" with various gold-themed initiatives, as well as temporarily suspending the tradition of naming each Super Bowl game with Roman numerals (under which the game would have been known as \"Super Bowl L\"), so that the logo could prominently feature the Arabic numerals 50.',\n",
              " 'question': 'Which NFL team represented the AFC at Super Bowl 50?',\n",
              " 'answers': {'text': ['Denver Broncos', 'Denver Broncos', 'Denver Broncos'],\n",
              "  'answer_start': [177, 177, 177]},\n",
              " 'new_context': \"Southern California is also home to the Port of Los Angeles, the United States' busiest commercial port; the adjacent Port of Long Beach, the United States' second busiest container port; and the Port of San Diego.\"}"
            ]
          },
          "metadata": {},
          "execution_count": 83
        }
      ],
      "source": [
        "shuffled_context_dataset[0]"
      ]
    },
    {
      "cell_type": "markdown",
      "metadata": {
        "id": "46mXJS1ZA8IC"
      },
      "source": [
        "#### Evaluating Model Performance on Modified Dataset\n",
        "\n",
        "Now we will test the performance of our model on the modified dataset to determine how reliant it is on the original contexts.\n",
        "\n",
        "- Compare the model predictions to the original correct answers.\n",
        "- Calculate evaluation metrics.\n",
        "- Analyze whether there is a significant decrease in model performance on the modified dataset and explain your thoughts.\n"
      ]
    },
    {
      "cell_type": "code",
      "source": [
        "###########################################\n",
        "### Evaluating original answers section ###\n",
        "###########################################\n",
        "\n",
        "predictions2 = []\n",
        "ground_truths2 = []\n",
        "\n",
        "for example in tqdm(shuffled_context_dataset):\n",
        "    input_text = f\"Context: {example['new_context']} \\nQuestion: {example['question']}\"\n",
        "    output_text = llm(prompt_template % (preprompt, input_text))\n",
        "    predictions2.append(output_text)\n",
        "    ground_truths2.append(example['answers']['text'])\n",
        "\n",
        "em_score = compute_exact_match_score(predictions2, ground_truths2),\n",
        "f1_score = compute_f1_score(predictions2, ground_truths2)\n",
        "\n",
        "print(f\"EM Score={em_score}, F1 Score={f1_score}\")"
      ],
      "metadata": {
        "colab": {
          "base_uri": "https://localhost:8080/",
          "height": 66,
          "referenced_widgets": [
            "34ee0055d1f94656bdd730c289c3048b",
            "54cf7ac4a7134bad879496e0f479aa03",
            "ce0125c7df20464eb5371fa4655f5555",
            "3c2866c982a34af0a38dd5c93c0fa9e9",
            "89672fac7f9c430b9a633aa10ebe6a4b",
            "693dcbb713e244dd96f31e589542cbe5",
            "e6ffca69c9b440e5ae6da9be7076a46d",
            "9c6c3f90821b4ac7b60f66f7aa1e29c8",
            "056f09d0038f4c45b2818b29897f1caa",
            "496393a99ba744b99fdf6edee3930903",
            "2f78d352df8c47bf94afd5fd3e00fb2a"
          ]
        },
        "id": "oRPsuZldFPg1",
        "outputId": "efb6f9d3-fe5f-44f5-bdb1-35b7bb9b8031"
      },
      "execution_count": null,
      "outputs": [
        {
          "output_type": "display_data",
          "data": {
            "text/plain": [
              "  0%|          | 0/1057 [00:00<?, ?it/s]"
            ],
            "application/vnd.jupyter.widget-view+json": {
              "version_major": 2,
              "version_minor": 0,
              "model_id": "34ee0055d1f94656bdd730c289c3048b"
            }
          },
          "metadata": {}
        },
        {
          "output_type": "stream",
          "name": "stdout",
          "text": [
            "EM Score=(0.9460737937559129,), F1 Score=0.01965991172715234\n"
          ]
        }
      ]
    },
    {
      "cell_type": "code",
      "source": [
        "import pickle\n",
        "\n",
        "# Save the list to a file using pickle\n",
        "with open('predictions2.pkl', 'wb') as f:\n",
        "    pickle.dump(predictions2, f)"
      ],
      "metadata": {
        "id": "0nbmp_8mCPD0"
      },
      "execution_count": null,
      "outputs": []
    },
    {
      "cell_type": "markdown",
      "metadata": {
        "id": "qsZmSH3EDLIn"
      },
      "source": [
        "#### Evaluating \"Not Enough Info.\" Responses\n",
        "\n",
        "In the prompt we specified that the model should respond \"Not enough info.\" if the context lacks the information needed to answer the question.\n",
        "\n",
        "Now we will evaluate the model's performance on these \"not enough info.\" responses.\n",
        "\n",
        "Which evaluation metric should we use and why?\n"
      ]
    },
    {
      "cell_type": "code",
      "source": [
        "###########################################\n",
        "### Evaluating modified answers section ###\n",
        "###########################################\n",
        "\n",
        "## Your code begins ##\n",
        "ground_truths2 = []\n",
        "\n",
        "for example in tqdm(shuffled_context_dataset):\n",
        "    ground_truths2.append([\"Not enough info.\"])\n",
        "\n",
        "em_score2 = compute_exact_match_score(predictions2, ground_truths2)\n",
        "\n",
        "print(f\"EM Score={em_score2}\")\n",
        "## Your code ends ##"
      ],
      "metadata": {
        "colab": {
          "base_uri": "https://localhost:8080/",
          "height": 66,
          "referenced_widgets": [
            "09ef045576ec4755805d2bf06c166402",
            "e0479f881fc44d2fbcd45b60332e0dea",
            "84efbc3b54dd4810a09f02b7be1e3e16",
            "de3033ee5216486a80eabbf3573d54c7",
            "f9de4413abc543b0a25ea132c679d3f9",
            "58a5e1ef412d4466904717462ece56b6",
            "d088d59f771946f0a3275e72d9247fc2",
            "e2f011782887437090211e04644df39a",
            "5b5b5d55d2e64c40b0192eb2b32d6789",
            "48f8d8a820004c6293cba621e8aff731",
            "199d702fe4ca4b219cccc3fdc44c4ac8"
          ]
        },
        "id": "2p8URX49weUm",
        "outputId": "72588267-4bda-4828-b71c-4cf09ab285d1"
      },
      "execution_count": null,
      "outputs": [
        {
          "output_type": "display_data",
          "data": {
            "text/plain": [
              "  0%|          | 0/1057 [00:00<?, ?it/s]"
            ],
            "application/vnd.jupyter.widget-view+json": {
              "version_major": 2,
              "version_minor": 0,
              "model_id": "09ef045576ec4755805d2bf06c166402"
            }
          },
          "metadata": {}
        },
        {
          "output_type": "stream",
          "name": "stdout",
          "text": [
            "EM Score=80.79470198675497\n"
          ]
        }
      ]
    },
    {
      "cell_type": "markdown",
      "metadata": {
        "id": "xbPrF4P_XnD4"
      },
      "source": [
        "#### Analyzing Model Responses\n",
        "\n",
        "Now examine some of the model's responses and the corresponding examples to see if anything unusual or interesting occurred during evaluation.\n",
        "\n",
        "**Steps:**\n",
        "\n",
        "1. Sample some model responses across the dataset.\n",
        "\n",
        "2. Analyze the input example and model's response.\n",
        "\n",
        "4. Dig deeper into the model's response and explain why this is the case.\n",
        "\n",
        "5. Possible insights:\n",
        "\n",
        "  - Is model hallucinating or fabricating information?\n",
        "\n",
        "  - Does model seem biased or inconsistent?\n",
        "\n",
        "  - Does the model rely too much on the context?\n"
      ]
    },
    {
      "cell_type": "markdown",
      "source": [
        "Please refer to the report."
      ],
      "metadata": {
        "id": "LnpPopcbOB5R"
      }
    },
    {
      "cell_type": "code",
      "source": [
        "dataset_test[20]"
      ],
      "metadata": {
        "colab": {
          "base_uri": "https://localhost:8080/"
        },
        "id": "D70ifz0nLdG-",
        "outputId": "012c3c4a-1ef3-4257-ec03-d66c7adc05e9"
      },
      "execution_count": 28,
      "outputs": [
        {
          "output_type": "execute_result",
          "data": {
            "text/plain": [
              "{'id': '56beb3083aeaaa14008c923e',\n",
              " 'title': 'Super_Bowl_50',\n",
              " 'context': 'Despite waiving longtime running back DeAngelo Williams and losing top wide receiver Kelvin Benjamin to a torn ACL in the preseason, the Carolina Panthers had their best regular season in franchise history, becoming the seventh team to win at least 15 regular season games since the league expanded to a 16-game schedule in 1978. Carolina started the season 14–0, not only setting franchise records for the best start and the longest single-season winning streak, but also posting the best start to a season by an NFC team in NFL history, breaking the 13–0 record previously shared with the 2009 New Orleans Saints and the 2011 Green Bay Packers. With their NFC-best 15–1 regular season record, the Panthers clinched home-field advantage throughout the NFC playoffs for the first time in franchise history. Ten players were selected to the Pro Bowl (the most in franchise history) along with eight All-Pro selections.',\n",
              " 'question': 'Who had the best record in the NFC?',\n",
              " 'answers': {'text': ['Carolina Panthers', 'the Panthers', 'Carolina'],\n",
              "  'answer_start': [137, 695, 330]}}"
            ]
          },
          "metadata": {},
          "execution_count": 28
        }
      ]
    },
    {
      "cell_type": "code",
      "source": [
        "predictions[20]"
      ],
      "metadata": {
        "colab": {
          "base_uri": "https://localhost:8080/",
          "height": 36
        },
        "id": "hBLI9Ax2LAIn",
        "outputId": "fb2ff119-ad77-4be5-bd55-1b4ca9ef4d6a"
      },
      "execution_count": 26,
      "outputs": [
        {
          "output_type": "execute_result",
          "data": {
            "text/plain": [
              "'The Panthers had the best record in the NFC with a 15-1 regular season record.'"
            ],
            "application/vnd.google.colaboratory.intrinsic+json": {
              "type": "string"
            }
          },
          "metadata": {},
          "execution_count": 26
        }
      ]
    },
    {
      "cell_type": "code",
      "source": [
        "predictions2[20]"
      ],
      "metadata": {
        "colab": {
          "base_uri": "https://localhost:8080/",
          "height": 36
        },
        "id": "bYfLug9yKyw-",
        "outputId": "fae28e83-c926-41ad-8ae3-3e16134fba22"
      },
      "execution_count": 27,
      "outputs": [
        {
          "output_type": "execute_result",
          "data": {
            "text/plain": [
              "'The best record in the NFC was held by the Dallas Cowboys with 374 wins and 206 losses.'"
            ],
            "application/vnd.google.colaboratory.intrinsic+json": {
              "type": "string"
            }
          },
          "metadata": {},
          "execution_count": 27
        }
      ]
    },
    {
      "cell_type": "markdown",
      "metadata": {
        "id": "ardC7XmPA_Nz"
      },
      "source": [
        "### 3.2. Entity Substitution"
      ]
    },
    {
      "cell_type": "markdown",
      "metadata": {
        "id": "YilQGGNVW40_"
      },
      "source": [
        "#### Modifying Entities in Examples\n",
        "\n",
        "For this section, we need to modify the entities in each example with different entities from the same domain.\n",
        "\n",
        "For example, the sentence \"Joe Biden is the president of the US\" could be changed to \"Akbar is the king of England\".\n",
        "\n",
        "To do this, we recommend using the spaCy library and its named entity recognition (NER) capabilities.\n",
        "\n",
        "**Steps:**\n",
        "\n",
        "1. Load the `en_core_web_sm` model in spaCy.\n",
        "\n",
        "2. Identify named entities in each example text.\n",
        "\n",
        "3. Decide which entities could be swapped out.\n",
        "\n",
        "4. Replace entities with new random ones from the same domain.\n",
        "\n",
        "\n",
        "**Of course, this is just a suggestion and you can feel free to implement this section as you desire, as long as it meets the required criteria.**\n"
      ]
    },
    {
      "cell_type": "code",
      "execution_count": 33,
      "metadata": {
        "id": "5ovbqtDgQJsQ",
        "colab": {
          "base_uri": "https://localhost:8080/"
        },
        "outputId": "2d484949-0016-4f28-d7a2-4b60d22835a9"
      },
      "outputs": [
        {
          "output_type": "stream",
          "name": "stdout",
          "text": [
            "CARDINAL\n",
            "Numerals that do not fall under another type\n",
            "-------------------------------\n",
            "DATE\n",
            "Absolute or relative dates or periods\n",
            "-------------------------------\n",
            "EVENT\n",
            "Named hurricanes, battles, wars, sports events, etc.\n",
            "-------------------------------\n",
            "FAC\n",
            "Buildings, airports, highways, bridges, etc.\n",
            "-------------------------------\n",
            "GPE\n",
            "Countries, cities, states\n",
            "-------------------------------\n",
            "LANGUAGE\n",
            "Any named language\n",
            "-------------------------------\n",
            "LAW\n",
            "Named documents made into laws.\n",
            "-------------------------------\n",
            "LOC\n",
            "Non-GPE locations, mountain ranges, bodies of water\n",
            "-------------------------------\n",
            "MONEY\n",
            "Monetary values, including unit\n",
            "-------------------------------\n",
            "NORP\n",
            "Nationalities or religious or political groups\n",
            "-------------------------------\n",
            "ORDINAL\n",
            "\"first\", \"second\", etc.\n",
            "-------------------------------\n",
            "ORG\n",
            "Companies, agencies, institutions, etc.\n",
            "-------------------------------\n",
            "PERCENT\n",
            "Percentage, including \"%\"\n",
            "-------------------------------\n",
            "PERSON\n",
            "People, including fictional\n",
            "-------------------------------\n",
            "PRODUCT\n",
            "Objects, vehicles, foods, etc. (not services)\n",
            "-------------------------------\n",
            "QUANTITY\n",
            "Measurements, as of weight or distance\n",
            "-------------------------------\n",
            "TIME\n",
            "Times smaller than a day\n",
            "-------------------------------\n",
            "WORK_OF_ART\n",
            "Titles of books, songs, etc.\n",
            "-------------------------------\n"
          ]
        }
      ],
      "source": [
        "import spacy\n",
        "\n",
        "nlp = spacy.load(\"en_core_web_sm\")\n",
        "\n",
        "labels = nlp.get_pipe(\"ner\").labels\n",
        "\n",
        "for label in labels:\n",
        "    print(label)\n",
        "    print(spacy.explain(label))\n",
        "    print('-------------------------------')\n"
      ]
    },
    {
      "cell_type": "code",
      "execution_count": 34,
      "metadata": {
        "id": "c0aVoWYoZHd_"
      },
      "outputs": [],
      "source": [
        "'''\n",
        "EVENT\n",
        "Named hurricanes, battles, wars, sports events, etc.\n",
        "-------------------------------\n",
        "FAC\n",
        "Buildings, airports, highways, bridges, etc.\n",
        "-------------------------------\n",
        "GPE\n",
        "Countries, cities, states\n",
        "-------------------------------\n",
        "LANGUAGE\n",
        "Any named language\n",
        "-------------------------------\n",
        "LAW\n",
        "Named documents made into laws.\n",
        "-------------------------------\n",
        "LOC\n",
        "Non-GPE locations, mountain ranges, bodies of water\n",
        "-------------------------------\n",
        "NORP\n",
        "Nationalities or religious or political groups\n",
        "-------------------------------\n",
        "ORG\n",
        "Companies, agencies, institutions, etc.\n",
        "-------------------------------\n",
        "PERSON\n",
        "People, including fictional\n",
        "-------------------------------\n",
        "PRODUCT\n",
        "Objects, vehicles, foods, etc. (not services)\n",
        "-------------------------------\n",
        "WORK_OF_ART\n",
        "Titles of books, songs, etc.\n",
        "-------------------------------\n",
        "'''\n",
        "entities = {\n",
        "    \"EVENT\": [\n",
        "        \"Hurricane Katrina (2005)\",\n",
        "        \"Battle of Waterloo (1815)\",\n",
        "        \"World War II (1939-1945)\",\n",
        "        \"Super Bowl LVI (2022)\",\n",
        "        \"Vietnam War (1955-1975)\",\n",
        "        \"Hurricane Sandy (2012)\",\n",
        "        \"Gulf War (1990-1991)\",\n",
        "        \"French Open (annual event)\",\n",
        "        \"Battle of Gettysburg (1863)\",\n",
        "        \"FIFA World Cup 2022\"\n",
        "    ],\n",
        "    \"FAC\": [\n",
        "        \"LaGuardia Airport (New York City)\",\n",
        "        \"Golden Gate Bridge (San Francisco, CA)\",\n",
        "        \"CN Tower (Toronto, Canada)\",\n",
        "        \"Heathrow Airport Terminal 5 (London)\",\n",
        "        \"Shanghai Metro (Shanghai, China)\",\n",
        "        \"Hoover Dam (Nevada/Arizona, US)\",\n",
        "        \"Burj Khalifa (Dubai, UAE)\",\n",
        "        \"Cape Canaveral Space Force Station (Florida, US)\",\n",
        "        \"CERN Hadron Collider (Geneva, Switzerland)\",\n",
        "        \"Shanghai Tunnel (Shanghai, China)\"\n",
        "    ],\n",
        "    \"GPE\": [\n",
        "        \"Paris, France\",\n",
        "        \"Canada\",\n",
        "        \"California, US\",\n",
        "        \"India\",\n",
        "        \"Mexico\",\n",
        "        \"Germany\",\n",
        "        \"New South Wales, Australia\",\n",
        "        \"Jakarta, Indonesia\",\n",
        "        \"Shanghai, China\",\n",
        "        \"Texas, US\"\n",
        "    ],\n",
        "    \"LANGUAGE\": [\n",
        "        \"English\",\n",
        "        \"Mandarin Chinese\",\n",
        "        \"Spanish\",\n",
        "        \"Arabic\",\n",
        "        \"Russian\",\n",
        "        \"French\",\n",
        "        \"German\",\n",
        "        \"Japanese\",\n",
        "        \"Hindi\",\n",
        "        \"Portuguese\"\n",
        "    ],\n",
        "    \"LAW\": [\n",
        "        \"United States Constitution\",\n",
        "        \"Magna Carta (England, 1215)\",\n",
        "        \"Code of Hammurabi (Babylonia, ~1754 BCE)\",\n",
        "        \"Declaration of Independence (US, 1776)\",\n",
        "        \"Bill of Rights (US, 1791)\",\n",
        "        \"Geneva Conventions (1864, 1906, 1929, 1949)\",\n",
        "        \"Universal Declaration of Human Rights (UN, 1948)\",\n",
        "        \"Treaty of Versailles (1919)\",\n",
        "        \"Patient Protection and Affordable Care Act (US, 2010)\",\n",
        "        \"Civil Rights Act (US, 1964)\"\n",
        "    ],\n",
        "    \"LOC\": [\n",
        "        \"Sahara Desert (Africa)\",\n",
        "        \"Amazon River (South America)\",\n",
        "        \"Mount Everest (Asia)\",\n",
        "        \"Pacific Ocean\",\n",
        "        \"Hudson River (New York, US)\",\n",
        "        \"Urals Mountains (Russia)\",\n",
        "        \"Lake Victoria (Africa)\",\n",
        "        \"Strait of Gibraltar (border of Europe/Africa)\",\n",
        "        \"Antarctica\",\n",
        "        \"Mariana Trench (western Pacific Ocean)\"\n",
        "    ],\n",
        "\n",
        "    \"NORP\": [\n",
        "        \"Arabs\",\n",
        "        \"Hispanics\",\n",
        "        \"Kurds\",\n",
        "        \"Tamils\",\n",
        "        \"Hutus\",\n",
        "        \"Pashtuns\",\n",
        "        \"Hmong\",\n",
        "        \"Israelis\",\n",
        "        \"Basques\",\n",
        "        \"Chechens\"\n",
        "    ],\n",
        "    \"ORG\": [\n",
        "        \"United Nations\",\n",
        "        \"Microsoft Corporation\",\n",
        "        \"Mayo Clinic\",\n",
        "        \"Taliban\",\n",
        "        \"NASA\",\n",
        "        \"Starbucks\",\n",
        "        \"FIFA\",\n",
        "        \"Centers for Disease Control and Prevention (CDC)\",\n",
        "        \"European Union\",\n",
        "        \"Harvard University\"\n",
        "    ],\n",
        "    \"PERSON\": [\n",
        "        \"Barack Obama\",\n",
        "        \"Queen Elizabeth II\",\n",
        "        \"Cristiano Ronaldo\",\n",
        "        \"J.K. Rowling\",\n",
        "        \"Elon Musk\",\n",
        "        \"Taylor Swift\",\n",
        "        \"Donald Trump\",\n",
        "        \"Serena Williams\",\n",
        "        \"Jeff Bezos\",\n",
        "        \"Malala Yousafzai\"\n",
        "    ],\n",
        "    \"PRODUCT\": [\n",
        "        \"iPhone\",\n",
        "        \"Coca-Cola\",\n",
        "        \"Boeing 747\",\n",
        "        \"Harry Potter books\",\n",
        "        \"Lego\",\n",
        "        \"PlayStation 5\",\n",
        "        \"Tesla Model S\",\n",
        "        \"Ikea Billy bookcase\",\n",
        "        \"Honda Civic\",\n",
        "        \"Heinz ketchup\"\n",
        "    ],\n",
        "    \"WORK_OF_ART\": [\n",
        "        \"Mona Lisa (painting by Leonardo da Vinci)\",\n",
        "        \"Hamlet (play by Shakespeare)\",\n",
        "        \"The Starry Night (painting by van Gogh)\",\n",
        "        \"Thriller (album by Michael Jackson)\",\n",
        "        \"The Odyssey (epic poem by Homer)\",\n",
        "        \"The Divine Comedy (poem by Dante)\",\n",
        "        \"Pride and Prejudice (novel by Jane Austen)\",\n",
        "        \"La Gioconda (opera by Ponchielli)\",\n",
        "        \"Broadway musical Hamilton\",\n",
        "        \"Hey Jude (song by The Beatles)\"\n",
        "    ]\n",
        "}"
      ]
    },
    {
      "cell_type": "code",
      "execution_count": 35,
      "metadata": {
        "id": "-Zp_U4fbc9IM",
        "colab": {
          "base_uri": "https://localhost:8080/",
          "height": 49,
          "referenced_widgets": [
            "c70c5b40f98c44a6b2d947de99fc7aff",
            "110a1f2804f24e49990a664a963b20b8",
            "31e737457cf0418ab4cfc430fa2f2714",
            "96f26242f4194067954221adb68736b5",
            "41f8816430e84f30b06faf504ab28b6e",
            "e5f8e4e516b448628b4f064d4e00ba43",
            "f707b3971184467eb54ca51ae2f98155",
            "86bb33c1441f4ab2a4bad6efef62ebcb",
            "f17231c765224d5a916d299a8fdd9c96",
            "2b26404f1f2a47f6b09cf923085856b9",
            "6eb876b13d574d718b9bc19caf9e4304"
          ]
        },
        "outputId": "498d5bb0-5590-4f78-ac29-4c6759edde5d"
      },
      "outputs": [
        {
          "output_type": "display_data",
          "data": {
            "text/plain": [
              "Map:   0%|          | 0/1057 [00:00<?, ? examples/s]"
            ],
            "application/vnd.jupyter.widget-view+json": {
              "version_major": 2,
              "version_minor": 0,
              "model_id": "c70c5b40f98c44a6b2d947de99fc7aff"
            }
          },
          "metadata": {}
        }
      ],
      "source": [
        "np.random.seed(SEED)\n",
        "\n",
        "def change_example_entities(example):\n",
        "    ## Your code begins ##\n",
        "    doc = nlp(example['context'])\n",
        "    entity_mapping = {}\n",
        "\n",
        "    for ent in doc.ents:\n",
        "        label = ent.label_\n",
        "        text = ent.text\n",
        "        if label in entities:\n",
        "            replacement_entity = np.random.choice(entities[label])\n",
        "            entity_mapping[text] = replacement_entity\n",
        "\n",
        "    for old_entity, new_entity in entity_mapping.items():\n",
        "        example['context'] = example['context'].replace(old_entity, new_entity)\n",
        "        example['question'] = example['question'].replace(old_entity, new_entity)\n",
        "        for i in range(len(example['answers']['text'])):\n",
        "          example['answers']['text'][i] = example['answers']['text'][i].replace(old_entity, new_entity)\n",
        "\n",
        "    return example\n",
        "    ## Your code ends ##\n",
        "\n",
        "changed_entiy_dataset = dataset_test.map(change_example_entities)"
      ]
    },
    {
      "cell_type": "code",
      "execution_count": null,
      "metadata": {
        "colab": {
          "base_uri": "https://localhost:8080/"
        },
        "outputId": "1bd0f4cc-688d-41b1-d2da-cbcb9b6ccb5e",
        "id": "U4Py4jTQztfj"
      },
      "outputs": [
        {
          "output_type": "execute_result",
          "data": {
            "text/plain": [
              "{'id': '56be4db0acb8001400a502ec',\n",
              " 'title': 'Super_Bowl_50',\n",
              " 'context': 'Gulf War (1990-1991) 50 was an Basques football game to determine the champion of NASA (United Nations) for the 2015 season. The Basques Football Conference (AFC) champion Jeff Bezos defeated Taliban (NFC) champion Cristiano Ronaldo 24–10 to earn their third Gulf War (1990-1991) title. The game was played on February 7, 2016, at CERN Hadron Collider (Geneva, Switzerland) in Mariana Trench (western Pacific Ocean) at New South Wales, Australia, Paris, France. As this was the 50th Gulf War (1990-1991), the league emphasized the \"golden anniversary\" with various gold-themed initiatives, as well as temporarily suspending the tradition of naming each Gulf War (1990-1991) game with Hutus numerals (under which the game would have been known as \"Gulf War (1990-1991) L\"), so that the logo could prominently feature the Israelis numerals 50.',\n",
              " 'question': 'Which United Nations team represented the AFC at Gulf War (1990-1991) 50?',\n",
              " 'answers': {'text': ['Jeff Bezos', 'Jeff Bezos', 'Jeff Bezos'],\n",
              "  'answer_start': [177, 177, 177]}}"
            ]
          },
          "metadata": {},
          "execution_count": 28
        }
      ],
      "source": [
        "changed_entiy_dataset[0]"
      ]
    },
    {
      "cell_type": "markdown",
      "metadata": {
        "id": "SDlZvOKQacRU"
      },
      "source": [
        "#### Evaluating Model on Modified Entities\n",
        "\n",
        "Now we will evaluate our model's performance on the dataset with modified entities.\n",
        "\n",
        "**Steps:**\n",
        "\n",
        "1. Check model performance on original correct answers.\n",
        "\n",
        "2. Check performance on modified answers.\n",
        "\n",
        "   - Calculate metrics on answers changed to match context.\n",
        "\n",
        "3. Examine some model responses.\n",
        "\n",
        "   - Analyze model behavior on modified examples.\n",
        "\n",
        "   - Explain anything interesting about model responses.\n",
        "\n",
        "**Key Points**\n",
        "\n",
        "- Evaluate on original answers as a baseline.\n",
        "\n",
        "- Also evaluate on modified answers matching context.\n",
        "\n",
        "- Compare metrics - does performance decrease?\n",
        "\n",
        "- Inspect some responses for insightful model behaviors.\n",
        "\n"
      ]
    },
    {
      "cell_type": "code",
      "source": [
        "# @title Evaluating Llama-2 on the Dataset\n",
        "predictions = []\n",
        "ground_truths = []\n",
        "\n",
        "for example in tqdm(dataset_test):\n",
        "    input_text = f\"Question: {example['question']} Context: {example['context']}\"\n",
        "    output_text = llm(prompt_template % (preprompt, input_text))\n",
        "    predictions.append(output_text)\n",
        "    ground_truths.append(example['answers']['text'])\n",
        "\n",
        "em_score = compute_exact_match_score(predictions, ground_truths),\n",
        "f1_score = compute_f1_score(predictions, ground_truths)\n",
        "\n",
        "print(f\"EM Score={em_score}, F1 Score={f1_score}\")"
      ],
      "metadata": {
        "colab": {
          "base_uri": "https://localhost:8080/",
          "height": 67,
          "referenced_widgets": [
            "cda69edadf234e55b4b5ddfde1a10518",
            "90b5c50f1a8f4eeaa52cba5bd78f2e07",
            "4a4d44b3399b45019dd5fca6c92c2139",
            "21922c7e8617465ba158b1026c641c9f",
            "4608ea1e1843469abbfbb354dcd94370",
            "b6fcbafea8fa4cb7a321cff24a656042",
            "7cfbc20c3ecc4b96ab8eaee0d6c61ea4",
            "1fdd12ade7fa4cc5b2f18c925f25da35",
            "df62628bd63048feb3875bf39c2edc98",
            "230dc541617945d18f5984168e42a0c4",
            "510d3b6dbf0948d488dda2466c126719"
          ]
        },
        "outputId": "f5319ace-4533-4565-dea5-0980d8102500",
        "id": "idyXU2FpKXvJ"
      },
      "execution_count": null,
      "outputs": [
        {
          "output_type": "display_data",
          "data": {
            "text/plain": [
              "  0%|          | 0/1057 [00:00<?, ?it/s]"
            ],
            "application/vnd.jupyter.widget-view+json": {
              "version_major": 2,
              "version_minor": 0,
              "model_id": "cda69edadf234e55b4b5ddfde1a10518"
            }
          },
          "metadata": {}
        },
        {
          "output_type": "stream",
          "name": "stdout",
          "text": [
            "EM Score=(16.93472090823084,), F1 Score=0.3671884374572664\n"
          ]
        }
      ]
    },
    {
      "cell_type": "code",
      "source": [
        "###########################################\n",
        "### Evaluating modified answers section ###\n",
        "###########################################\n",
        "\n",
        "## Your code begins ##\n",
        "predictions3 = []\n",
        "ground_truths3 = []\n",
        "\n",
        "for example in tqdm(changed_entiy_dataset):\n",
        "    input_text = f\"Context: {example['context']} \\nQuestion: {example['question']}\"\n",
        "    output_text = llm(prompt_template % (preprompt, input_text))\n",
        "    predictions3.append(output_text)\n",
        "    ground_truths3.append(example['answers']['text'])\n",
        "\n",
        "em_score = compute_exact_match_score(predictions3, ground_truths3),\n",
        "f1_score = compute_f1_score(predictions3, ground_truths3)\n",
        "\n",
        "print(f\"EM Score={em_score}, F1 Score={f1_score}\")\n",
        "## Your code ends ##"
      ],
      "metadata": {
        "colab": {
          "base_uri": "https://localhost:8080/",
          "height": 66,
          "referenced_widgets": [
            "fd2b481d404f465e9a3e2cf647575364",
            "a96d939bb4bb47c98e05a02829bc91bd",
            "55cee91422ef4dc48c7ed5a6d454eb2c",
            "b596617c344d47178fd250295a7faa07",
            "36c08053aafd4ac5b3754c7887f0bcc3",
            "e987c97754004e0e9d96bcff29b06de5",
            "1e0fdd02a26847209ad650f168abfbcc",
            "6515680e81494d6a875902797b023939",
            "8f6177a27ad04eca8e3dc0a690fa6ec2",
            "a9badc247eba4a83a0e6fe6b6bf37624",
            "3a186ad751b444328e557e52c4e88c2b"
          ]
        },
        "id": "V77hSK2xTz5T",
        "outputId": "7f1c3954-0cc0-40ee-eaaf-3ea9ff499363"
      },
      "execution_count": null,
      "outputs": [
        {
          "output_type": "display_data",
          "data": {
            "text/plain": [
              "  0%|          | 0/1057 [00:00<?, ?it/s]"
            ],
            "application/vnd.jupyter.widget-view+json": {
              "version_major": 2,
              "version_minor": 0,
              "model_id": "fd2b481d404f465e9a3e2cf647575364"
            }
          },
          "metadata": {}
        },
        {
          "output_type": "stream",
          "name": "stdout",
          "text": [
            "EM Score=(21.665089877010406,), F1 Score=0.3788809504407445\n"
          ]
        }
      ]
    },
    {
      "cell_type": "code",
      "source": [
        "import pickle\n",
        "\n",
        "# Save the list to a file using pickle\n",
        "with open('predictions3.pkl', 'wb') as f:\n",
        "    pickle.dump(predictions3, f)"
      ],
      "metadata": {
        "id": "KLEOviZkDAtk"
      },
      "execution_count": null,
      "outputs": []
    },
    {
      "cell_type": "code",
      "source": [
        "dataset_test[78]"
      ],
      "metadata": {
        "colab": {
          "base_uri": "https://localhost:8080/"
        },
        "id": "d5UO21MbQ4qx",
        "outputId": "6d828842-4d8c-4b91-eab7-e8c8adf904a1"
      },
      "execution_count": 46,
      "outputs": [
        {
          "output_type": "execute_result",
          "data": {
            "text/plain": [
              "{'id': '56d9cb47dc89441400fdb836',\n",
              " 'title': 'Super_Bowl_50',\n",
              " 'context': \"With 4:51 left in regulation, Carolina got the ball on their own 24-yard line with a chance to mount a game-winning drive, and soon faced 3rd-and-9. On the next play, Miller stripped the ball away from Newton, and after several players dove for it, it took a long bounce backwards and was recovered by Ward, who returned it five yards to the Panthers 4-yard line. Although several players dove into the pile to attempt to recover it, Newton did not and his lack of aggression later earned him heavy criticism. Meanwhile, Denver's offense was kept out of the end zone for three plays, but a holding penalty on cornerback Josh Norman gave the Broncos a new set of downs. Then Anderson scored on a 2-yard touchdown run and Manning completed a pass to Bennie Fowler for a 2-point conversion, giving Denver a 24–10 lead with 3:08 left and essentially putting the game away. Carolina had two more drives, but failed to get a first down on each one.\",\n",
              " 'question': 'What is the last name of the player who scored a 2-yard touchdown in the fourth quarter?',\n",
              " 'answers': {'text': ['Anderson', 'Anderson', 'Anderson'],\n",
              "  'answer_start': [674, 674, 674]}}"
            ]
          },
          "metadata": {},
          "execution_count": 46
        }
      ]
    },
    {
      "cell_type": "code",
      "source": [
        "predictions[78]"
      ],
      "metadata": {
        "colab": {
          "base_uri": "https://localhost:8080/",
          "height": 36
        },
        "id": "XHBeAfi4TqHL",
        "outputId": "8ba3d827-a47d-4557-f0a8-cbd814be1104"
      },
      "execution_count": 49,
      "outputs": [
        {
          "output_type": "execute_result",
          "data": {
            "text/plain": [
              "'Player: Newton'"
            ],
            "application/vnd.google.colaboratory.intrinsic+json": {
              "type": "string"
            }
          },
          "metadata": {},
          "execution_count": 49
        }
      ]
    },
    {
      "cell_type": "code",
      "source": [
        "changed_entiy_dataset[78]"
      ],
      "metadata": {
        "colab": {
          "base_uri": "https://localhost:8080/"
        },
        "id": "89zx4oKPRES5",
        "outputId": "6fe73b62-fbab-4af7-d9c5-3d49f9b62c7d"
      },
      "execution_count": 48,
      "outputs": [
        {
          "output_type": "execute_result",
          "data": {
            "text/plain": [
              "{'id': '56d9cb47dc89441400fdb836',\n",
              " 'title': 'Super_Bowl_50',\n",
              " 'context': \"With J.K. Rowling left in regulation, Hudson River (New York, US) got the ball on their own 24-yard line with a chance to mount a game-winning drive, and soon faced 3rd-and-9. On the next play, Barack Obama stripped the ball away from Taliban, and after several players dove for it, it took a long bounce backwards and was recovered by Microsoft Corporation, who returned it five yards to the Panthers 4-yard line. Although several players dove into the pile to attempt to recover it, Taliban did not and his lack of aggression later earned him heavy criticism. Meanwhile, New South Wales, Australia's offense was kept out of the end zone for three plays, but a holding penalty on cornerback Donald Trump gave the Lego a new set of downs. Then Cristiano Ronaldo scored on a 2-yard touchdown run and Serena Williams completed a pass to J.K. Rowling for a 2-point conversion, giving New South Wales, Australia a 24–10 lead with 3:08 left and essentially putting the game away. Hudson River (New York, US) had two more drives, but failed to get a first down on each one.\",\n",
              " 'question': 'What is the last name of the player who scored a 2-yard touchdown in the fourth quarter?',\n",
              " 'answers': {'text': ['Cristiano Ronaldo',\n",
              "   'Cristiano Ronaldo',\n",
              "   'Cristiano Ronaldo'],\n",
              "  'answer_start': [674, 674, 674]}}"
            ]
          },
          "metadata": {},
          "execution_count": 48
        }
      ]
    },
    {
      "cell_type": "code",
      "source": [
        "predictions3[78]"
      ],
      "metadata": {
        "colab": {
          "base_uri": "https://localhost:8080/",
          "height": 36
        },
        "id": "q3819lO_QxjB",
        "outputId": "e81dbcbc-a4cd-490a-b5ad-00b9b8549b27"
      },
      "execution_count": 50,
      "outputs": [
        {
          "output_type": "execute_result",
          "data": {
            "text/plain": [
              "'Ronaldo'"
            ],
            "application/vnd.google.colaboratory.intrinsic+json": {
              "type": "string"
            }
          },
          "metadata": {},
          "execution_count": 50
        }
      ]
    },
    {
      "cell_type": "markdown",
      "metadata": {
        "id": "Pqtcv1c2BBkR"
      },
      "source": [
        "### 3.3. Nonsense Word Substitution\n",
        "\n",
        "In this segment of the adversarial dataset construction, our primary aim is to assess the model's ability to adapt to new, artificially coined terms and evaluate its reasoning capabilities based on the provided context. We will implement a systematic approach to generate nonsense words, replace identifiable entities in the dataset with these generated words, and provide a definition for each nonsense word. This process encapsulates the essence of exploring how well the model can understand and use newly defined terms to answer questions accurately.\n",
        "\n",
        "The first task at hand is to design a function that generates nonsense words. The goal here is to create a word that doesn't carry any pre-existing meaning. The function `generate_nonsense_word` below is your starting point. Implement the function such that it creates and returns a nonsense word."
      ]
    },
    {
      "cell_type": "code",
      "execution_count": null,
      "metadata": {
        "id": "itwWWQOmHM8W",
        "colab": {
          "base_uri": "https://localhost:8080/"
        },
        "outputId": "acb9421b-9dc7-4fa0-dded-4cd31f90f69e"
      },
      "outputs": [
        {
          "output_type": "stream",
          "name": "stdout",
          "text": [
            "Generated Nonsense Word: nwnu\n"
          ]
        }
      ],
      "source": [
        "# @title Generate Nonsense Words (Your Implementation)\n",
        "import string\n",
        "random.seed(SEED)\n",
        "\n",
        "def generate_nonsense_word():\n",
        "    ## Your code begins ##\n",
        "    length = random.randint(2,10)\n",
        "    nonsense_word = ''.join(random.choice(string.ascii_lowercase) for _ in range(length))\n",
        "    return nonsense_word\n",
        "\n",
        "nonsense_word = generate_nonsense_word()\n",
        "print(\"Generated Nonsense Word:\", nonsense_word)\n",
        "    ## Your code ends ##"
      ]
    },
    {
      "cell_type": "markdown",
      "metadata": {
        "id": "wAx1jFH5J7u7"
      },
      "source": [
        "Having devised a mechanism to create nonsense words, we transition into the heart of this section—creating the adversarial dataset. We will employ the Spacy library's Named Entity Recognition (NER) system to identify entities within the text. Each identified entity will be replaced by a generated nonsense word, and a definition will be provided for every replacement. The create_adversarial_example function below encapsulates this task. Implement the function, and upon executing it, you will observe a sample example from the adversarial dataset that illustrates the substitutions and definitions."
      ]
    },
    {
      "cell_type": "code",
      "execution_count": null,
      "metadata": {
        "id": "-yRe-hNFdHPI",
        "colab": {
          "base_uri": "https://localhost:8080/",
          "height": 49,
          "referenced_widgets": [
            "2b438cbe82184c15a98d89b2606a0a25",
            "7c22e67c6e9840a982c29569610f475c",
            "bd17a19a632f4991a7312200009c811d",
            "a92b6a0b36ec4a2d87f3a004933a049d",
            "90306add767745c4ad27ae0d191ef5cb",
            "d81f6b65b74b4a37a371266c57163282",
            "03f9cb1d5c814f27902c0511e2a0e0cf",
            "d7562259e61346a7899380a880a77f43",
            "f7eae5018ac24111863b054048200969",
            "ac63e2985b4c4b4c8399442d0fdd9f6e",
            "d85dba7e7a6e4dbfb03741a058d1d384"
          ]
        },
        "outputId": "baf76ad1-fcdd-4f3f-b15a-4d5350cb87d6"
      },
      "outputs": [
        {
          "output_type": "execute_result",
          "data": {
            "text/plain": [
              "{'id': '56be4db0acb8001400a502ec',\n",
              " 'title': 'Super_Bowl_50',\n",
              " 'context': 'Super Bowl 50 was an American football game to determine the champion of the National Football League (NFL) for the 2015 season. The American Football Conference (AFC) champion Denver Broncos defeated the National Football Conference (NFC) champion Carolina Panthers 24–10 to earn their third Super Bowl title. The game was played on February 7, 2016, at Levi\\'s Stadium in the San Francisco Bay Area at Santa Clara, California. As this was the 50th Super Bowl, the league emphasized the \"golden anniversary\" with various gold-themed initiatives, as well as temporarily suspending the tradition of naming each Super Bowl game with Roman numerals (under which the game would have been known as \"Super Bowl L\"), so that the logo could prominently feature the Arabic numerals 50.',\n",
              " 'question': 'Which NFL team represented the AFC at Super Bowl 50?',\n",
              " 'answers': {'text': ['Denver Broncos', 'Denver Broncos', 'Denver Broncos'],\n",
              "  'answer_start': [177, 177, 177]},\n",
              " 'altered_context': 'qijwpe szwbztki was an tfjcax football game to determine the champion of dxsaldst (ggzgerjxgy) for tdjjgxyhcy. The tfjcax Football Conference (AFC) champion gwcimezfyi defeated ygbwitmo (NFC) champion qlynp wqbmc to earn their qwmydots qijwpe title. The game was played on mtpuglymij, at fv in kmkzu at oazwswn, jwubmk. As this was the szwbztkith qijwpe, the league emphasized the \"golden anniversary\" with various gold-themed initiatives, as well as temporarily suspending the tradition of naming each qijwpe game with czdtnm numerals (under which the game would have been known as \"qijwpe L\"), so that the logo could prominently feature the uk numerals szwbztki.',\n",
              " 'altered_question': 'Which ggzgerjxgy team represented the AFC at qijwpe szwbztki?',\n",
              " 'definitions': \"qijwpe is another word for Super Bowl, szwbztki is another word for 50, tfjcax is another word for American, dxsaldst is another word for the National Football League, ggzgerjxgy is another word for NFL, tdjjgxyhcy is another word for the 2015 season, lwsgq is another word for The American Football Conference, gwcimezfyi is another word for Denver Broncos, ygbwitmo is another word for the National Football Conference, qlynp is another word for Carolina Panthers, wqbmc is another word for 24–10, qwmydots is another word for third, mtpuglymij is another word for February 7, 2016, fv is another word for Levi's Stadium, kmkzu is another word for the San Francisco Bay Area, oazwswn is another word for Santa Clara, jwubmk is another word for California, jhb is another word for 50th, czdtnm is another word for Roman, hkdnvuoeg is another word for Super Bowl L, uk is another word for Arabic\"}"
            ]
          },
          "metadata": {},
          "execution_count": 13
        }
      ],
      "source": [
        "# @title Create Adversarial Dataset (Your Implementation)\n",
        "nlp = spacy.load(\"en_core_web_sm\")\n",
        "\n",
        "def create_adversarial_example(example):\n",
        "    doc = nlp(example['context'])\n",
        "\n",
        "    ## Your code begins ##\n",
        "    entity_replacements = {}\n",
        "    for ent in doc.ents:\n",
        "      entity = ent.text\n",
        "      nonsense_word = generate_nonsense_word()\n",
        "      entity_replacements[entity] = nonsense_word\n",
        "\n",
        "    altered_context = example['context']\n",
        "    altered_question = example['question']\n",
        "\n",
        "    for entity, nonsense_word in entity_replacements.items():\n",
        "        altered_context = altered_context.replace(entity, nonsense_word)\n",
        "        altered_question = altered_question.replace(entity, nonsense_word)\n",
        "\n",
        "    definitions = {v: k for k, v in entity_replacements.items()}\n",
        "    ## Your code ends ##\n",
        "\n",
        "    return {\n",
        "      'altered_context': altered_context,\n",
        "      'altered_question': altered_question,\n",
        "      'definitions': ', '.join([f'{k} is another word for {v}' for k, v in definitions.items()]),\n",
        "    }\n",
        "\n",
        "adversarial_examples = dataset_test.map(create_adversarial_example)\n",
        "\n",
        "clear_output()\n",
        "adversarial_examples[0]"
      ]
    },
    {
      "cell_type": "markdown",
      "metadata": {
        "id": "7vDgWGyNKESc"
      },
      "source": [
        "With the adversarial dataset in place, the stage is set for evaluating the model's performance. We aim to uncover how well the model navigates through the maze of newly introduced terms while clinging to the definitions provided. Implement the evaluation code block below to gauge the model's performance on this adversarial dataset. The insights garnered from this exercise will shed light on the model's ability to adapt to new information and reason based on provided definitions, which is a step closer to understanding the model's reasoning faculties."
      ]
    },
    {
      "cell_type": "code",
      "source": [
        "preprompt2 = preprompt + ' Use definitions list to recover main words and return these main words.'"
      ],
      "metadata": {
        "id": "h8jVsZbXOz3T"
      },
      "execution_count": null,
      "outputs": []
    },
    {
      "cell_type": "code",
      "execution_count": null,
      "metadata": {
        "id": "3wgqV1gNJuM0",
        "colab": {
          "base_uri": "https://localhost:8080/",
          "height": 66,
          "referenced_widgets": [
            "bab46f1f685b42cb9e79b3fc07d2c0bd",
            "d0bd0e362d2d42c68712d69cd462e08d",
            "5ab75eba122e42d2b29ca85d6fd66897",
            "790e97c371ac4d25ac152f0e1fba294b",
            "cdb4a52b3b054c33a4c16fea56117fad",
            "80bc630c721445fa816ddeae550976db",
            "0117d67860654b8bb16a36a425642549",
            "1bf9287b5cae48f1897a589c929eee4b",
            "8db8520eca654c78af9ebe3b405f2003",
            "503008f826a84835b86303690dc7af76",
            "fe977e51b29b4cc486e0551e5ba5c3a1"
          ]
        },
        "outputId": "88bc93af-6b4e-4130-bf90-735382ad8db3"
      },
      "outputs": [
        {
          "data": {
            "application/vnd.jupyter.widget-view+json": {
              "model_id": "bab46f1f685b42cb9e79b3fc07d2c0bd",
              "version_major": 2,
              "version_minor": 0
            },
            "text/plain": [
              "  0%|          | 0/1057 [00:00<?, ?it/s]"
            ]
          },
          "metadata": {},
          "output_type": "display_data"
        },
        {
          "output_type": "stream",
          "name": "stdout",
          "text": [
            "EM Score=(3.5004730368968775,), F1 Score=0.20720127477626685\n"
          ]
        }
      ],
      "source": [
        "# @title Evaluating Llama-2 on the Adversarial Dataset\n",
        "predictions4 = []\n",
        "ground_truths4 = []\n",
        "\n",
        "for example in tqdm(adversarial_examples):\n",
        "    input_text = f\"Question: {example['altered_question']} Context: {example['altered_context']} Definitions: {example['definitions']}\"\n",
        "    output_text = llm(prompt_template % (preprompt2, input_text))\n",
        "    predictions4.append(output_text)\n",
        "    ground_truths4.append(example['answers']['text'])\n",
        "\n",
        "em_score = compute_exact_match_score(predictions4, ground_truths4),\n",
        "f1_score = compute_f1_score(predictions4, ground_truths4)\n",
        "\n",
        "print(f\"EM Score={em_score}, F1 Score={f1_score}\")"
      ]
    },
    {
      "cell_type": "code",
      "source": [
        "import pickle\n",
        "\n",
        "# Save the list to a file using pickle\n",
        "with open('predictions4.pkl', 'wb') as f:\n",
        "    pickle.dump(predictions4, f)"
      ],
      "metadata": {
        "id": "8PPtaYs2DHM7"
      },
      "execution_count": null,
      "outputs": []
    },
    {
      "cell_type": "markdown",
      "metadata": {
        "id": "7vuDiDRN1QkZ"
      },
      "source": [
        "## 4. Conclusion\n",
        "This exercise navigates through the curious interplay of reasoning and retrieval within Large Language Models, particularly focusing on the Llama-2 model. Through meticulous evaluation and crafting adversarial datasets, we aim to provide a window into the model's behavior, shedding light on its strengths, weaknesses, and its approach to deciphering and responding to questions under varying conditions.\n",
        "\n",
        "Now, reflect upon the model's performance and share your insights:\n",
        "\n",
        "\n",
        "5. <font color=\"green\"> Did the model's performance align with your expectations? </font>\n",
        "6. <font color=\"green\"> How do the adversarial evaluations contribute to our understanding of the model's strengths and weaknesses in terms of reasoning and retrieval? </font>\n",
        "\n"
      ]
    },
    {
      "cell_type": "markdown",
      "source": [
        "Please refer to the report."
      ],
      "metadata": {
        "id": "KfeUB_uxsQNy"
      }
    }
  ],
  "metadata": {
    "colab": {
      "provenance": []
    },
    "kernelspec": {
      "display_name": "Python 3",
      "name": "python3"
    },
    "language_info": {
      "codemirror_mode": {
        "name": "ipython",
        "version": 3
      },
      "file_extension": ".py",
      "mimetype": "text/x-python",
      "name": "python",
      "nbconvert_exporter": "python",
      "pygments_lexer": "ipython3",
      "version": "3.11.4"
    },
    "widgets": {
      "application/vnd.jupyter.widget-state+json": {
        "cda69edadf234e55b4b5ddfde1a10518": {
          "model_module": "@jupyter-widgets/controls",
          "model_name": "HBoxModel",
          "model_module_version": "1.5.0",
          "state": {
            "_dom_classes": [],
            "_model_module": "@jupyter-widgets/controls",
            "_model_module_version": "1.5.0",
            "_model_name": "HBoxModel",
            "_view_count": null,
            "_view_module": "@jupyter-widgets/controls",
            "_view_module_version": "1.5.0",
            "_view_name": "HBoxView",
            "box_style": "",
            "children": [
              "IPY_MODEL_90b5c50f1a8f4eeaa52cba5bd78f2e07",
              "IPY_MODEL_4a4d44b3399b45019dd5fca6c92c2139",
              "IPY_MODEL_21922c7e8617465ba158b1026c641c9f"
            ],
            "layout": "IPY_MODEL_4608ea1e1843469abbfbb354dcd94370"
          }
        },
        "90b5c50f1a8f4eeaa52cba5bd78f2e07": {
          "model_module": "@jupyter-widgets/controls",
          "model_name": "HTMLModel",
          "model_module_version": "1.5.0",
          "state": {
            "_dom_classes": [],
            "_model_module": "@jupyter-widgets/controls",
            "_model_module_version": "1.5.0",
            "_model_name": "HTMLModel",
            "_view_count": null,
            "_view_module": "@jupyter-widgets/controls",
            "_view_module_version": "1.5.0",
            "_view_name": "HTMLView",
            "description": "",
            "description_tooltip": null,
            "layout": "IPY_MODEL_b6fcbafea8fa4cb7a321cff24a656042",
            "placeholder": "​",
            "style": "IPY_MODEL_7cfbc20c3ecc4b96ab8eaee0d6c61ea4",
            "value": "100%"
          }
        },
        "4a4d44b3399b45019dd5fca6c92c2139": {
          "model_module": "@jupyter-widgets/controls",
          "model_name": "FloatProgressModel",
          "model_module_version": "1.5.0",
          "state": {
            "_dom_classes": [],
            "_model_module": "@jupyter-widgets/controls",
            "_model_module_version": "1.5.0",
            "_model_name": "FloatProgressModel",
            "_view_count": null,
            "_view_module": "@jupyter-widgets/controls",
            "_view_module_version": "1.5.0",
            "_view_name": "ProgressView",
            "bar_style": "success",
            "description": "",
            "description_tooltip": null,
            "layout": "IPY_MODEL_1fdd12ade7fa4cc5b2f18c925f25da35",
            "max": 1057,
            "min": 0,
            "orientation": "horizontal",
            "style": "IPY_MODEL_df62628bd63048feb3875bf39c2edc98",
            "value": 1057
          }
        },
        "21922c7e8617465ba158b1026c641c9f": {
          "model_module": "@jupyter-widgets/controls",
          "model_name": "HTMLModel",
          "model_module_version": "1.5.0",
          "state": {
            "_dom_classes": [],
            "_model_module": "@jupyter-widgets/controls",
            "_model_module_version": "1.5.0",
            "_model_name": "HTMLModel",
            "_view_count": null,
            "_view_module": "@jupyter-widgets/controls",
            "_view_module_version": "1.5.0",
            "_view_name": "HTMLView",
            "description": "",
            "description_tooltip": null,
            "layout": "IPY_MODEL_230dc541617945d18f5984168e42a0c4",
            "placeholder": "​",
            "style": "IPY_MODEL_510d3b6dbf0948d488dda2466c126719",
            "value": " 1057/1057 [3:12:56&lt;00:00,  9.35s/it]"
          }
        },
        "4608ea1e1843469abbfbb354dcd94370": {
          "model_module": "@jupyter-widgets/base",
          "model_name": "LayoutModel",
          "model_module_version": "1.2.0",
          "state": {
            "_model_module": "@jupyter-widgets/base",
            "_model_module_version": "1.2.0",
            "_model_name": "LayoutModel",
            "_view_count": null,
            "_view_module": "@jupyter-widgets/base",
            "_view_module_version": "1.2.0",
            "_view_name": "LayoutView",
            "align_content": null,
            "align_items": null,
            "align_self": null,
            "border": null,
            "bottom": null,
            "display": null,
            "flex": null,
            "flex_flow": null,
            "grid_area": null,
            "grid_auto_columns": null,
            "grid_auto_flow": null,
            "grid_auto_rows": null,
            "grid_column": null,
            "grid_gap": null,
            "grid_row": null,
            "grid_template_areas": null,
            "grid_template_columns": null,
            "grid_template_rows": null,
            "height": null,
            "justify_content": null,
            "justify_items": null,
            "left": null,
            "margin": null,
            "max_height": null,
            "max_width": null,
            "min_height": null,
            "min_width": null,
            "object_fit": null,
            "object_position": null,
            "order": null,
            "overflow": null,
            "overflow_x": null,
            "overflow_y": null,
            "padding": null,
            "right": null,
            "top": null,
            "visibility": null,
            "width": null
          }
        },
        "b6fcbafea8fa4cb7a321cff24a656042": {
          "model_module": "@jupyter-widgets/base",
          "model_name": "LayoutModel",
          "model_module_version": "1.2.0",
          "state": {
            "_model_module": "@jupyter-widgets/base",
            "_model_module_version": "1.2.0",
            "_model_name": "LayoutModel",
            "_view_count": null,
            "_view_module": "@jupyter-widgets/base",
            "_view_module_version": "1.2.0",
            "_view_name": "LayoutView",
            "align_content": null,
            "align_items": null,
            "align_self": null,
            "border": null,
            "bottom": null,
            "display": null,
            "flex": null,
            "flex_flow": null,
            "grid_area": null,
            "grid_auto_columns": null,
            "grid_auto_flow": null,
            "grid_auto_rows": null,
            "grid_column": null,
            "grid_gap": null,
            "grid_row": null,
            "grid_template_areas": null,
            "grid_template_columns": null,
            "grid_template_rows": null,
            "height": null,
            "justify_content": null,
            "justify_items": null,
            "left": null,
            "margin": null,
            "max_height": null,
            "max_width": null,
            "min_height": null,
            "min_width": null,
            "object_fit": null,
            "object_position": null,
            "order": null,
            "overflow": null,
            "overflow_x": null,
            "overflow_y": null,
            "padding": null,
            "right": null,
            "top": null,
            "visibility": null,
            "width": null
          }
        },
        "7cfbc20c3ecc4b96ab8eaee0d6c61ea4": {
          "model_module": "@jupyter-widgets/controls",
          "model_name": "DescriptionStyleModel",
          "model_module_version": "1.5.0",
          "state": {
            "_model_module": "@jupyter-widgets/controls",
            "_model_module_version": "1.5.0",
            "_model_name": "DescriptionStyleModel",
            "_view_count": null,
            "_view_module": "@jupyter-widgets/base",
            "_view_module_version": "1.2.0",
            "_view_name": "StyleView",
            "description_width": ""
          }
        },
        "1fdd12ade7fa4cc5b2f18c925f25da35": {
          "model_module": "@jupyter-widgets/base",
          "model_name": "LayoutModel",
          "model_module_version": "1.2.0",
          "state": {
            "_model_module": "@jupyter-widgets/base",
            "_model_module_version": "1.2.0",
            "_model_name": "LayoutModel",
            "_view_count": null,
            "_view_module": "@jupyter-widgets/base",
            "_view_module_version": "1.2.0",
            "_view_name": "LayoutView",
            "align_content": null,
            "align_items": null,
            "align_self": null,
            "border": null,
            "bottom": null,
            "display": null,
            "flex": null,
            "flex_flow": null,
            "grid_area": null,
            "grid_auto_columns": null,
            "grid_auto_flow": null,
            "grid_auto_rows": null,
            "grid_column": null,
            "grid_gap": null,
            "grid_row": null,
            "grid_template_areas": null,
            "grid_template_columns": null,
            "grid_template_rows": null,
            "height": null,
            "justify_content": null,
            "justify_items": null,
            "left": null,
            "margin": null,
            "max_height": null,
            "max_width": null,
            "min_height": null,
            "min_width": null,
            "object_fit": null,
            "object_position": null,
            "order": null,
            "overflow": null,
            "overflow_x": null,
            "overflow_y": null,
            "padding": null,
            "right": null,
            "top": null,
            "visibility": null,
            "width": null
          }
        },
        "df62628bd63048feb3875bf39c2edc98": {
          "model_module": "@jupyter-widgets/controls",
          "model_name": "ProgressStyleModel",
          "model_module_version": "1.5.0",
          "state": {
            "_model_module": "@jupyter-widgets/controls",
            "_model_module_version": "1.5.0",
            "_model_name": "ProgressStyleModel",
            "_view_count": null,
            "_view_module": "@jupyter-widgets/base",
            "_view_module_version": "1.2.0",
            "_view_name": "StyleView",
            "bar_color": null,
            "description_width": ""
          }
        },
        "230dc541617945d18f5984168e42a0c4": {
          "model_module": "@jupyter-widgets/base",
          "model_name": "LayoutModel",
          "model_module_version": "1.2.0",
          "state": {
            "_model_module": "@jupyter-widgets/base",
            "_model_module_version": "1.2.0",
            "_model_name": "LayoutModel",
            "_view_count": null,
            "_view_module": "@jupyter-widgets/base",
            "_view_module_version": "1.2.0",
            "_view_name": "LayoutView",
            "align_content": null,
            "align_items": null,
            "align_self": null,
            "border": null,
            "bottom": null,
            "display": null,
            "flex": null,
            "flex_flow": null,
            "grid_area": null,
            "grid_auto_columns": null,
            "grid_auto_flow": null,
            "grid_auto_rows": null,
            "grid_column": null,
            "grid_gap": null,
            "grid_row": null,
            "grid_template_areas": null,
            "grid_template_columns": null,
            "grid_template_rows": null,
            "height": null,
            "justify_content": null,
            "justify_items": null,
            "left": null,
            "margin": null,
            "max_height": null,
            "max_width": null,
            "min_height": null,
            "min_width": null,
            "object_fit": null,
            "object_position": null,
            "order": null,
            "overflow": null,
            "overflow_x": null,
            "overflow_y": null,
            "padding": null,
            "right": null,
            "top": null,
            "visibility": null,
            "width": null
          }
        },
        "510d3b6dbf0948d488dda2466c126719": {
          "model_module": "@jupyter-widgets/controls",
          "model_name": "DescriptionStyleModel",
          "model_module_version": "1.5.0",
          "state": {
            "_model_module": "@jupyter-widgets/controls",
            "_model_module_version": "1.5.0",
            "_model_name": "DescriptionStyleModel",
            "_view_count": null,
            "_view_module": "@jupyter-widgets/base",
            "_view_module_version": "1.2.0",
            "_view_name": "StyleView",
            "description_width": ""
          }
        },
        "ec0d16b50c7b4e88ae30a2da3ae0cb19": {
          "model_module": "@jupyter-widgets/controls",
          "model_name": "HBoxModel",
          "model_module_version": "1.5.0",
          "state": {
            "_dom_classes": [],
            "_model_module": "@jupyter-widgets/controls",
            "_model_module_version": "1.5.0",
            "_model_name": "HBoxModel",
            "_view_count": null,
            "_view_module": "@jupyter-widgets/controls",
            "_view_module_version": "1.5.0",
            "_view_name": "HBoxView",
            "box_style": "",
            "children": [
              "IPY_MODEL_02314f450f0546518de217cf1c4d0a0c",
              "IPY_MODEL_51e56713411648c4825faec26560873b",
              "IPY_MODEL_3824b3b253fb423aabd346a877389d8e"
            ],
            "layout": "IPY_MODEL_8f88d6f48f2e47b5b7f4f2b71e7f2b3c"
          }
        },
        "02314f450f0546518de217cf1c4d0a0c": {
          "model_module": "@jupyter-widgets/controls",
          "model_name": "HTMLModel",
          "model_module_version": "1.5.0",
          "state": {
            "_dom_classes": [],
            "_model_module": "@jupyter-widgets/controls",
            "_model_module_version": "1.5.0",
            "_model_name": "HTMLModel",
            "_view_count": null,
            "_view_module": "@jupyter-widgets/controls",
            "_view_module_version": "1.5.0",
            "_view_name": "HTMLView",
            "description": "",
            "description_tooltip": null,
            "layout": "IPY_MODEL_d62685e05a164b138cbabb0a631c2e6e",
            "placeholder": "​",
            "style": "IPY_MODEL_0fd52e415c834fe3917cb59b1f0acc75",
            "value": "Map: 100%"
          }
        },
        "51e56713411648c4825faec26560873b": {
          "model_module": "@jupyter-widgets/controls",
          "model_name": "FloatProgressModel",
          "model_module_version": "1.5.0",
          "state": {
            "_dom_classes": [],
            "_model_module": "@jupyter-widgets/controls",
            "_model_module_version": "1.5.0",
            "_model_name": "FloatProgressModel",
            "_view_count": null,
            "_view_module": "@jupyter-widgets/controls",
            "_view_module_version": "1.5.0",
            "_view_name": "ProgressView",
            "bar_style": "success",
            "description": "",
            "description_tooltip": null,
            "layout": "IPY_MODEL_fe0b2725a96847a1ad6860aff117e06d",
            "max": 1057,
            "min": 0,
            "orientation": "horizontal",
            "style": "IPY_MODEL_2d3cfe2097e84e5397f7db0b94b50de7",
            "value": 1057
          }
        },
        "3824b3b253fb423aabd346a877389d8e": {
          "model_module": "@jupyter-widgets/controls",
          "model_name": "HTMLModel",
          "model_module_version": "1.5.0",
          "state": {
            "_dom_classes": [],
            "_model_module": "@jupyter-widgets/controls",
            "_model_module_version": "1.5.0",
            "_model_name": "HTMLModel",
            "_view_count": null,
            "_view_module": "@jupyter-widgets/controls",
            "_view_module_version": "1.5.0",
            "_view_name": "HTMLView",
            "description": "",
            "description_tooltip": null,
            "layout": "IPY_MODEL_7eb98cc772bd454eb51763da48613c8c",
            "placeholder": "​",
            "style": "IPY_MODEL_04e10d5425aa41d8a0372e2c545e225b",
            "value": " 1057/1057 [00:00&lt;00:00, 3584.76 examples/s]"
          }
        },
        "8f88d6f48f2e47b5b7f4f2b71e7f2b3c": {
          "model_module": "@jupyter-widgets/base",
          "model_name": "LayoutModel",
          "model_module_version": "1.2.0",
          "state": {
            "_model_module": "@jupyter-widgets/base",
            "_model_module_version": "1.2.0",
            "_model_name": "LayoutModel",
            "_view_count": null,
            "_view_module": "@jupyter-widgets/base",
            "_view_module_version": "1.2.0",
            "_view_name": "LayoutView",
            "align_content": null,
            "align_items": null,
            "align_self": null,
            "border": null,
            "bottom": null,
            "display": null,
            "flex": null,
            "flex_flow": null,
            "grid_area": null,
            "grid_auto_columns": null,
            "grid_auto_flow": null,
            "grid_auto_rows": null,
            "grid_column": null,
            "grid_gap": null,
            "grid_row": null,
            "grid_template_areas": null,
            "grid_template_columns": null,
            "grid_template_rows": null,
            "height": null,
            "justify_content": null,
            "justify_items": null,
            "left": null,
            "margin": null,
            "max_height": null,
            "max_width": null,
            "min_height": null,
            "min_width": null,
            "object_fit": null,
            "object_position": null,
            "order": null,
            "overflow": null,
            "overflow_x": null,
            "overflow_y": null,
            "padding": null,
            "right": null,
            "top": null,
            "visibility": null,
            "width": null
          }
        },
        "d62685e05a164b138cbabb0a631c2e6e": {
          "model_module": "@jupyter-widgets/base",
          "model_name": "LayoutModel",
          "model_module_version": "1.2.0",
          "state": {
            "_model_module": "@jupyter-widgets/base",
            "_model_module_version": "1.2.0",
            "_model_name": "LayoutModel",
            "_view_count": null,
            "_view_module": "@jupyter-widgets/base",
            "_view_module_version": "1.2.0",
            "_view_name": "LayoutView",
            "align_content": null,
            "align_items": null,
            "align_self": null,
            "border": null,
            "bottom": null,
            "display": null,
            "flex": null,
            "flex_flow": null,
            "grid_area": null,
            "grid_auto_columns": null,
            "grid_auto_flow": null,
            "grid_auto_rows": null,
            "grid_column": null,
            "grid_gap": null,
            "grid_row": null,
            "grid_template_areas": null,
            "grid_template_columns": null,
            "grid_template_rows": null,
            "height": null,
            "justify_content": null,
            "justify_items": null,
            "left": null,
            "margin": null,
            "max_height": null,
            "max_width": null,
            "min_height": null,
            "min_width": null,
            "object_fit": null,
            "object_position": null,
            "order": null,
            "overflow": null,
            "overflow_x": null,
            "overflow_y": null,
            "padding": null,
            "right": null,
            "top": null,
            "visibility": null,
            "width": null
          }
        },
        "0fd52e415c834fe3917cb59b1f0acc75": {
          "model_module": "@jupyter-widgets/controls",
          "model_name": "DescriptionStyleModel",
          "model_module_version": "1.5.0",
          "state": {
            "_model_module": "@jupyter-widgets/controls",
            "_model_module_version": "1.5.0",
            "_model_name": "DescriptionStyleModel",
            "_view_count": null,
            "_view_module": "@jupyter-widgets/base",
            "_view_module_version": "1.2.0",
            "_view_name": "StyleView",
            "description_width": ""
          }
        },
        "fe0b2725a96847a1ad6860aff117e06d": {
          "model_module": "@jupyter-widgets/base",
          "model_name": "LayoutModel",
          "model_module_version": "1.2.0",
          "state": {
            "_model_module": "@jupyter-widgets/base",
            "_model_module_version": "1.2.0",
            "_model_name": "LayoutModel",
            "_view_count": null,
            "_view_module": "@jupyter-widgets/base",
            "_view_module_version": "1.2.0",
            "_view_name": "LayoutView",
            "align_content": null,
            "align_items": null,
            "align_self": null,
            "border": null,
            "bottom": null,
            "display": null,
            "flex": null,
            "flex_flow": null,
            "grid_area": null,
            "grid_auto_columns": null,
            "grid_auto_flow": null,
            "grid_auto_rows": null,
            "grid_column": null,
            "grid_gap": null,
            "grid_row": null,
            "grid_template_areas": null,
            "grid_template_columns": null,
            "grid_template_rows": null,
            "height": null,
            "justify_content": null,
            "justify_items": null,
            "left": null,
            "margin": null,
            "max_height": null,
            "max_width": null,
            "min_height": null,
            "min_width": null,
            "object_fit": null,
            "object_position": null,
            "order": null,
            "overflow": null,
            "overflow_x": null,
            "overflow_y": null,
            "padding": null,
            "right": null,
            "top": null,
            "visibility": null,
            "width": null
          }
        },
        "2d3cfe2097e84e5397f7db0b94b50de7": {
          "model_module": "@jupyter-widgets/controls",
          "model_name": "ProgressStyleModel",
          "model_module_version": "1.5.0",
          "state": {
            "_model_module": "@jupyter-widgets/controls",
            "_model_module_version": "1.5.0",
            "_model_name": "ProgressStyleModel",
            "_view_count": null,
            "_view_module": "@jupyter-widgets/base",
            "_view_module_version": "1.2.0",
            "_view_name": "StyleView",
            "bar_color": null,
            "description_width": ""
          }
        },
        "7eb98cc772bd454eb51763da48613c8c": {
          "model_module": "@jupyter-widgets/base",
          "model_name": "LayoutModel",
          "model_module_version": "1.2.0",
          "state": {
            "_model_module": "@jupyter-widgets/base",
            "_model_module_version": "1.2.0",
            "_model_name": "LayoutModel",
            "_view_count": null,
            "_view_module": "@jupyter-widgets/base",
            "_view_module_version": "1.2.0",
            "_view_name": "LayoutView",
            "align_content": null,
            "align_items": null,
            "align_self": null,
            "border": null,
            "bottom": null,
            "display": null,
            "flex": null,
            "flex_flow": null,
            "grid_area": null,
            "grid_auto_columns": null,
            "grid_auto_flow": null,
            "grid_auto_rows": null,
            "grid_column": null,
            "grid_gap": null,
            "grid_row": null,
            "grid_template_areas": null,
            "grid_template_columns": null,
            "grid_template_rows": null,
            "height": null,
            "justify_content": null,
            "justify_items": null,
            "left": null,
            "margin": null,
            "max_height": null,
            "max_width": null,
            "min_height": null,
            "min_width": null,
            "object_fit": null,
            "object_position": null,
            "order": null,
            "overflow": null,
            "overflow_x": null,
            "overflow_y": null,
            "padding": null,
            "right": null,
            "top": null,
            "visibility": null,
            "width": null
          }
        },
        "04e10d5425aa41d8a0372e2c545e225b": {
          "model_module": "@jupyter-widgets/controls",
          "model_name": "DescriptionStyleModel",
          "model_module_version": "1.5.0",
          "state": {
            "_model_module": "@jupyter-widgets/controls",
            "_model_module_version": "1.5.0",
            "_model_name": "DescriptionStyleModel",
            "_view_count": null,
            "_view_module": "@jupyter-widgets/base",
            "_view_module_version": "1.2.0",
            "_view_name": "StyleView",
            "description_width": ""
          }
        },
        "34ee0055d1f94656bdd730c289c3048b": {
          "model_module": "@jupyter-widgets/controls",
          "model_name": "HBoxModel",
          "model_module_version": "1.5.0",
          "state": {
            "_dom_classes": [],
            "_model_module": "@jupyter-widgets/controls",
            "_model_module_version": "1.5.0",
            "_model_name": "HBoxModel",
            "_view_count": null,
            "_view_module": "@jupyter-widgets/controls",
            "_view_module_version": "1.5.0",
            "_view_name": "HBoxView",
            "box_style": "",
            "children": [
              "IPY_MODEL_54cf7ac4a7134bad879496e0f479aa03",
              "IPY_MODEL_ce0125c7df20464eb5371fa4655f5555",
              "IPY_MODEL_3c2866c982a34af0a38dd5c93c0fa9e9"
            ],
            "layout": "IPY_MODEL_89672fac7f9c430b9a633aa10ebe6a4b"
          }
        },
        "54cf7ac4a7134bad879496e0f479aa03": {
          "model_module": "@jupyter-widgets/controls",
          "model_name": "HTMLModel",
          "model_module_version": "1.5.0",
          "state": {
            "_dom_classes": [],
            "_model_module": "@jupyter-widgets/controls",
            "_model_module_version": "1.5.0",
            "_model_name": "HTMLModel",
            "_view_count": null,
            "_view_module": "@jupyter-widgets/controls",
            "_view_module_version": "1.5.0",
            "_view_name": "HTMLView",
            "description": "",
            "description_tooltip": null,
            "layout": "IPY_MODEL_693dcbb713e244dd96f31e589542cbe5",
            "placeholder": "​",
            "style": "IPY_MODEL_e6ffca69c9b440e5ae6da9be7076a46d",
            "value": "100%"
          }
        },
        "ce0125c7df20464eb5371fa4655f5555": {
          "model_module": "@jupyter-widgets/controls",
          "model_name": "FloatProgressModel",
          "model_module_version": "1.5.0",
          "state": {
            "_dom_classes": [],
            "_model_module": "@jupyter-widgets/controls",
            "_model_module_version": "1.5.0",
            "_model_name": "FloatProgressModel",
            "_view_count": null,
            "_view_module": "@jupyter-widgets/controls",
            "_view_module_version": "1.5.0",
            "_view_name": "ProgressView",
            "bar_style": "success",
            "description": "",
            "description_tooltip": null,
            "layout": "IPY_MODEL_9c6c3f90821b4ac7b60f66f7aa1e29c8",
            "max": 1057,
            "min": 0,
            "orientation": "horizontal",
            "style": "IPY_MODEL_056f09d0038f4c45b2818b29897f1caa",
            "value": 1057
          }
        },
        "3c2866c982a34af0a38dd5c93c0fa9e9": {
          "model_module": "@jupyter-widgets/controls",
          "model_name": "HTMLModel",
          "model_module_version": "1.5.0",
          "state": {
            "_dom_classes": [],
            "_model_module": "@jupyter-widgets/controls",
            "_model_module_version": "1.5.0",
            "_model_name": "HTMLModel",
            "_view_count": null,
            "_view_module": "@jupyter-widgets/controls",
            "_view_module_version": "1.5.0",
            "_view_name": "HTMLView",
            "description": "",
            "description_tooltip": null,
            "layout": "IPY_MODEL_496393a99ba744b99fdf6edee3930903",
            "placeholder": "​",
            "style": "IPY_MODEL_2f78d352df8c47bf94afd5fd3e00fb2a",
            "value": " 1057/1057 [3:07:47&lt;00:00,  9.64s/it]"
          }
        },
        "89672fac7f9c430b9a633aa10ebe6a4b": {
          "model_module": "@jupyter-widgets/base",
          "model_name": "LayoutModel",
          "model_module_version": "1.2.0",
          "state": {
            "_model_module": "@jupyter-widgets/base",
            "_model_module_version": "1.2.0",
            "_model_name": "LayoutModel",
            "_view_count": null,
            "_view_module": "@jupyter-widgets/base",
            "_view_module_version": "1.2.0",
            "_view_name": "LayoutView",
            "align_content": null,
            "align_items": null,
            "align_self": null,
            "border": null,
            "bottom": null,
            "display": null,
            "flex": null,
            "flex_flow": null,
            "grid_area": null,
            "grid_auto_columns": null,
            "grid_auto_flow": null,
            "grid_auto_rows": null,
            "grid_column": null,
            "grid_gap": null,
            "grid_row": null,
            "grid_template_areas": null,
            "grid_template_columns": null,
            "grid_template_rows": null,
            "height": null,
            "justify_content": null,
            "justify_items": null,
            "left": null,
            "margin": null,
            "max_height": null,
            "max_width": null,
            "min_height": null,
            "min_width": null,
            "object_fit": null,
            "object_position": null,
            "order": null,
            "overflow": null,
            "overflow_x": null,
            "overflow_y": null,
            "padding": null,
            "right": null,
            "top": null,
            "visibility": null,
            "width": null
          }
        },
        "693dcbb713e244dd96f31e589542cbe5": {
          "model_module": "@jupyter-widgets/base",
          "model_name": "LayoutModel",
          "model_module_version": "1.2.0",
          "state": {
            "_model_module": "@jupyter-widgets/base",
            "_model_module_version": "1.2.0",
            "_model_name": "LayoutModel",
            "_view_count": null,
            "_view_module": "@jupyter-widgets/base",
            "_view_module_version": "1.2.0",
            "_view_name": "LayoutView",
            "align_content": null,
            "align_items": null,
            "align_self": null,
            "border": null,
            "bottom": null,
            "display": null,
            "flex": null,
            "flex_flow": null,
            "grid_area": null,
            "grid_auto_columns": null,
            "grid_auto_flow": null,
            "grid_auto_rows": null,
            "grid_column": null,
            "grid_gap": null,
            "grid_row": null,
            "grid_template_areas": null,
            "grid_template_columns": null,
            "grid_template_rows": null,
            "height": null,
            "justify_content": null,
            "justify_items": null,
            "left": null,
            "margin": null,
            "max_height": null,
            "max_width": null,
            "min_height": null,
            "min_width": null,
            "object_fit": null,
            "object_position": null,
            "order": null,
            "overflow": null,
            "overflow_x": null,
            "overflow_y": null,
            "padding": null,
            "right": null,
            "top": null,
            "visibility": null,
            "width": null
          }
        },
        "e6ffca69c9b440e5ae6da9be7076a46d": {
          "model_module": "@jupyter-widgets/controls",
          "model_name": "DescriptionStyleModel",
          "model_module_version": "1.5.0",
          "state": {
            "_model_module": "@jupyter-widgets/controls",
            "_model_module_version": "1.5.0",
            "_model_name": "DescriptionStyleModel",
            "_view_count": null,
            "_view_module": "@jupyter-widgets/base",
            "_view_module_version": "1.2.0",
            "_view_name": "StyleView",
            "description_width": ""
          }
        },
        "9c6c3f90821b4ac7b60f66f7aa1e29c8": {
          "model_module": "@jupyter-widgets/base",
          "model_name": "LayoutModel",
          "model_module_version": "1.2.0",
          "state": {
            "_model_module": "@jupyter-widgets/base",
            "_model_module_version": "1.2.0",
            "_model_name": "LayoutModel",
            "_view_count": null,
            "_view_module": "@jupyter-widgets/base",
            "_view_module_version": "1.2.0",
            "_view_name": "LayoutView",
            "align_content": null,
            "align_items": null,
            "align_self": null,
            "border": null,
            "bottom": null,
            "display": null,
            "flex": null,
            "flex_flow": null,
            "grid_area": null,
            "grid_auto_columns": null,
            "grid_auto_flow": null,
            "grid_auto_rows": null,
            "grid_column": null,
            "grid_gap": null,
            "grid_row": null,
            "grid_template_areas": null,
            "grid_template_columns": null,
            "grid_template_rows": null,
            "height": null,
            "justify_content": null,
            "justify_items": null,
            "left": null,
            "margin": null,
            "max_height": null,
            "max_width": null,
            "min_height": null,
            "min_width": null,
            "object_fit": null,
            "object_position": null,
            "order": null,
            "overflow": null,
            "overflow_x": null,
            "overflow_y": null,
            "padding": null,
            "right": null,
            "top": null,
            "visibility": null,
            "width": null
          }
        },
        "056f09d0038f4c45b2818b29897f1caa": {
          "model_module": "@jupyter-widgets/controls",
          "model_name": "ProgressStyleModel",
          "model_module_version": "1.5.0",
          "state": {
            "_model_module": "@jupyter-widgets/controls",
            "_model_module_version": "1.5.0",
            "_model_name": "ProgressStyleModel",
            "_view_count": null,
            "_view_module": "@jupyter-widgets/base",
            "_view_module_version": "1.2.0",
            "_view_name": "StyleView",
            "bar_color": null,
            "description_width": ""
          }
        },
        "496393a99ba744b99fdf6edee3930903": {
          "model_module": "@jupyter-widgets/base",
          "model_name": "LayoutModel",
          "model_module_version": "1.2.0",
          "state": {
            "_model_module": "@jupyter-widgets/base",
            "_model_module_version": "1.2.0",
            "_model_name": "LayoutModel",
            "_view_count": null,
            "_view_module": "@jupyter-widgets/base",
            "_view_module_version": "1.2.0",
            "_view_name": "LayoutView",
            "align_content": null,
            "align_items": null,
            "align_self": null,
            "border": null,
            "bottom": null,
            "display": null,
            "flex": null,
            "flex_flow": null,
            "grid_area": null,
            "grid_auto_columns": null,
            "grid_auto_flow": null,
            "grid_auto_rows": null,
            "grid_column": null,
            "grid_gap": null,
            "grid_row": null,
            "grid_template_areas": null,
            "grid_template_columns": null,
            "grid_template_rows": null,
            "height": null,
            "justify_content": null,
            "justify_items": null,
            "left": null,
            "margin": null,
            "max_height": null,
            "max_width": null,
            "min_height": null,
            "min_width": null,
            "object_fit": null,
            "object_position": null,
            "order": null,
            "overflow": null,
            "overflow_x": null,
            "overflow_y": null,
            "padding": null,
            "right": null,
            "top": null,
            "visibility": null,
            "width": null
          }
        },
        "2f78d352df8c47bf94afd5fd3e00fb2a": {
          "model_module": "@jupyter-widgets/controls",
          "model_name": "DescriptionStyleModel",
          "model_module_version": "1.5.0",
          "state": {
            "_model_module": "@jupyter-widgets/controls",
            "_model_module_version": "1.5.0",
            "_model_name": "DescriptionStyleModel",
            "_view_count": null,
            "_view_module": "@jupyter-widgets/base",
            "_view_module_version": "1.2.0",
            "_view_name": "StyleView",
            "description_width": ""
          }
        },
        "09ef045576ec4755805d2bf06c166402": {
          "model_module": "@jupyter-widgets/controls",
          "model_name": "HBoxModel",
          "model_module_version": "1.5.0",
          "state": {
            "_dom_classes": [],
            "_model_module": "@jupyter-widgets/controls",
            "_model_module_version": "1.5.0",
            "_model_name": "HBoxModel",
            "_view_count": null,
            "_view_module": "@jupyter-widgets/controls",
            "_view_module_version": "1.5.0",
            "_view_name": "HBoxView",
            "box_style": "",
            "children": [
              "IPY_MODEL_e0479f881fc44d2fbcd45b60332e0dea",
              "IPY_MODEL_84efbc3b54dd4810a09f02b7be1e3e16",
              "IPY_MODEL_de3033ee5216486a80eabbf3573d54c7"
            ],
            "layout": "IPY_MODEL_f9de4413abc543b0a25ea132c679d3f9"
          }
        },
        "e0479f881fc44d2fbcd45b60332e0dea": {
          "model_module": "@jupyter-widgets/controls",
          "model_name": "HTMLModel",
          "model_module_version": "1.5.0",
          "state": {
            "_dom_classes": [],
            "_model_module": "@jupyter-widgets/controls",
            "_model_module_version": "1.5.0",
            "_model_name": "HTMLModel",
            "_view_count": null,
            "_view_module": "@jupyter-widgets/controls",
            "_view_module_version": "1.5.0",
            "_view_name": "HTMLView",
            "description": "",
            "description_tooltip": null,
            "layout": "IPY_MODEL_58a5e1ef412d4466904717462ece56b6",
            "placeholder": "​",
            "style": "IPY_MODEL_d088d59f771946f0a3275e72d9247fc2",
            "value": "100%"
          }
        },
        "84efbc3b54dd4810a09f02b7be1e3e16": {
          "model_module": "@jupyter-widgets/controls",
          "model_name": "FloatProgressModel",
          "model_module_version": "1.5.0",
          "state": {
            "_dom_classes": [],
            "_model_module": "@jupyter-widgets/controls",
            "_model_module_version": "1.5.0",
            "_model_name": "FloatProgressModel",
            "_view_count": null,
            "_view_module": "@jupyter-widgets/controls",
            "_view_module_version": "1.5.0",
            "_view_name": "ProgressView",
            "bar_style": "success",
            "description": "",
            "description_tooltip": null,
            "layout": "IPY_MODEL_e2f011782887437090211e04644df39a",
            "max": 1057,
            "min": 0,
            "orientation": "horizontal",
            "style": "IPY_MODEL_5b5b5d55d2e64c40b0192eb2b32d6789",
            "value": 1057
          }
        },
        "de3033ee5216486a80eabbf3573d54c7": {
          "model_module": "@jupyter-widgets/controls",
          "model_name": "HTMLModel",
          "model_module_version": "1.5.0",
          "state": {
            "_dom_classes": [],
            "_model_module": "@jupyter-widgets/controls",
            "_model_module_version": "1.5.0",
            "_model_name": "HTMLModel",
            "_view_count": null,
            "_view_module": "@jupyter-widgets/controls",
            "_view_module_version": "1.5.0",
            "_view_name": "HTMLView",
            "description": "",
            "description_tooltip": null,
            "layout": "IPY_MODEL_48f8d8a820004c6293cba621e8aff731",
            "placeholder": "​",
            "style": "IPY_MODEL_199d702fe4ca4b219cccc3fdc44c4ac8",
            "value": " 1057/1057 [00:00&lt;00:00, 8674.73it/s]"
          }
        },
        "f9de4413abc543b0a25ea132c679d3f9": {
          "model_module": "@jupyter-widgets/base",
          "model_name": "LayoutModel",
          "model_module_version": "1.2.0",
          "state": {
            "_model_module": "@jupyter-widgets/base",
            "_model_module_version": "1.2.0",
            "_model_name": "LayoutModel",
            "_view_count": null,
            "_view_module": "@jupyter-widgets/base",
            "_view_module_version": "1.2.0",
            "_view_name": "LayoutView",
            "align_content": null,
            "align_items": null,
            "align_self": null,
            "border": null,
            "bottom": null,
            "display": null,
            "flex": null,
            "flex_flow": null,
            "grid_area": null,
            "grid_auto_columns": null,
            "grid_auto_flow": null,
            "grid_auto_rows": null,
            "grid_column": null,
            "grid_gap": null,
            "grid_row": null,
            "grid_template_areas": null,
            "grid_template_columns": null,
            "grid_template_rows": null,
            "height": null,
            "justify_content": null,
            "justify_items": null,
            "left": null,
            "margin": null,
            "max_height": null,
            "max_width": null,
            "min_height": null,
            "min_width": null,
            "object_fit": null,
            "object_position": null,
            "order": null,
            "overflow": null,
            "overflow_x": null,
            "overflow_y": null,
            "padding": null,
            "right": null,
            "top": null,
            "visibility": null,
            "width": null
          }
        },
        "58a5e1ef412d4466904717462ece56b6": {
          "model_module": "@jupyter-widgets/base",
          "model_name": "LayoutModel",
          "model_module_version": "1.2.0",
          "state": {
            "_model_module": "@jupyter-widgets/base",
            "_model_module_version": "1.2.0",
            "_model_name": "LayoutModel",
            "_view_count": null,
            "_view_module": "@jupyter-widgets/base",
            "_view_module_version": "1.2.0",
            "_view_name": "LayoutView",
            "align_content": null,
            "align_items": null,
            "align_self": null,
            "border": null,
            "bottom": null,
            "display": null,
            "flex": null,
            "flex_flow": null,
            "grid_area": null,
            "grid_auto_columns": null,
            "grid_auto_flow": null,
            "grid_auto_rows": null,
            "grid_column": null,
            "grid_gap": null,
            "grid_row": null,
            "grid_template_areas": null,
            "grid_template_columns": null,
            "grid_template_rows": null,
            "height": null,
            "justify_content": null,
            "justify_items": null,
            "left": null,
            "margin": null,
            "max_height": null,
            "max_width": null,
            "min_height": null,
            "min_width": null,
            "object_fit": null,
            "object_position": null,
            "order": null,
            "overflow": null,
            "overflow_x": null,
            "overflow_y": null,
            "padding": null,
            "right": null,
            "top": null,
            "visibility": null,
            "width": null
          }
        },
        "d088d59f771946f0a3275e72d9247fc2": {
          "model_module": "@jupyter-widgets/controls",
          "model_name": "DescriptionStyleModel",
          "model_module_version": "1.5.0",
          "state": {
            "_model_module": "@jupyter-widgets/controls",
            "_model_module_version": "1.5.0",
            "_model_name": "DescriptionStyleModel",
            "_view_count": null,
            "_view_module": "@jupyter-widgets/base",
            "_view_module_version": "1.2.0",
            "_view_name": "StyleView",
            "description_width": ""
          }
        },
        "e2f011782887437090211e04644df39a": {
          "model_module": "@jupyter-widgets/base",
          "model_name": "LayoutModel",
          "model_module_version": "1.2.0",
          "state": {
            "_model_module": "@jupyter-widgets/base",
            "_model_module_version": "1.2.0",
            "_model_name": "LayoutModel",
            "_view_count": null,
            "_view_module": "@jupyter-widgets/base",
            "_view_module_version": "1.2.0",
            "_view_name": "LayoutView",
            "align_content": null,
            "align_items": null,
            "align_self": null,
            "border": null,
            "bottom": null,
            "display": null,
            "flex": null,
            "flex_flow": null,
            "grid_area": null,
            "grid_auto_columns": null,
            "grid_auto_flow": null,
            "grid_auto_rows": null,
            "grid_column": null,
            "grid_gap": null,
            "grid_row": null,
            "grid_template_areas": null,
            "grid_template_columns": null,
            "grid_template_rows": null,
            "height": null,
            "justify_content": null,
            "justify_items": null,
            "left": null,
            "margin": null,
            "max_height": null,
            "max_width": null,
            "min_height": null,
            "min_width": null,
            "object_fit": null,
            "object_position": null,
            "order": null,
            "overflow": null,
            "overflow_x": null,
            "overflow_y": null,
            "padding": null,
            "right": null,
            "top": null,
            "visibility": null,
            "width": null
          }
        },
        "5b5b5d55d2e64c40b0192eb2b32d6789": {
          "model_module": "@jupyter-widgets/controls",
          "model_name": "ProgressStyleModel",
          "model_module_version": "1.5.0",
          "state": {
            "_model_module": "@jupyter-widgets/controls",
            "_model_module_version": "1.5.0",
            "_model_name": "ProgressStyleModel",
            "_view_count": null,
            "_view_module": "@jupyter-widgets/base",
            "_view_module_version": "1.2.0",
            "_view_name": "StyleView",
            "bar_color": null,
            "description_width": ""
          }
        },
        "48f8d8a820004c6293cba621e8aff731": {
          "model_module": "@jupyter-widgets/base",
          "model_name": "LayoutModel",
          "model_module_version": "1.2.0",
          "state": {
            "_model_module": "@jupyter-widgets/base",
            "_model_module_version": "1.2.0",
            "_model_name": "LayoutModel",
            "_view_count": null,
            "_view_module": "@jupyter-widgets/base",
            "_view_module_version": "1.2.0",
            "_view_name": "LayoutView",
            "align_content": null,
            "align_items": null,
            "align_self": null,
            "border": null,
            "bottom": null,
            "display": null,
            "flex": null,
            "flex_flow": null,
            "grid_area": null,
            "grid_auto_columns": null,
            "grid_auto_flow": null,
            "grid_auto_rows": null,
            "grid_column": null,
            "grid_gap": null,
            "grid_row": null,
            "grid_template_areas": null,
            "grid_template_columns": null,
            "grid_template_rows": null,
            "height": null,
            "justify_content": null,
            "justify_items": null,
            "left": null,
            "margin": null,
            "max_height": null,
            "max_width": null,
            "min_height": null,
            "min_width": null,
            "object_fit": null,
            "object_position": null,
            "order": null,
            "overflow": null,
            "overflow_x": null,
            "overflow_y": null,
            "padding": null,
            "right": null,
            "top": null,
            "visibility": null,
            "width": null
          }
        },
        "199d702fe4ca4b219cccc3fdc44c4ac8": {
          "model_module": "@jupyter-widgets/controls",
          "model_name": "DescriptionStyleModel",
          "model_module_version": "1.5.0",
          "state": {
            "_model_module": "@jupyter-widgets/controls",
            "_model_module_version": "1.5.0",
            "_model_name": "DescriptionStyleModel",
            "_view_count": null,
            "_view_module": "@jupyter-widgets/base",
            "_view_module_version": "1.2.0",
            "_view_name": "StyleView",
            "description_width": ""
          }
        },
        "bab46f1f685b42cb9e79b3fc07d2c0bd": {
          "model_module": "@jupyter-widgets/controls",
          "model_name": "HBoxModel",
          "model_module_version": "1.5.0",
          "state": {
            "_dom_classes": [],
            "_model_module": "@jupyter-widgets/controls",
            "_model_module_version": "1.5.0",
            "_model_name": "HBoxModel",
            "_view_count": null,
            "_view_module": "@jupyter-widgets/controls",
            "_view_module_version": "1.5.0",
            "_view_name": "HBoxView",
            "box_style": "",
            "children": [
              "IPY_MODEL_d0bd0e362d2d42c68712d69cd462e08d",
              "IPY_MODEL_5ab75eba122e42d2b29ca85d6fd66897",
              "IPY_MODEL_790e97c371ac4d25ac152f0e1fba294b"
            ],
            "layout": "IPY_MODEL_cdb4a52b3b054c33a4c16fea56117fad"
          }
        },
        "d0bd0e362d2d42c68712d69cd462e08d": {
          "model_module": "@jupyter-widgets/controls",
          "model_name": "HTMLModel",
          "model_module_version": "1.5.0",
          "state": {
            "_dom_classes": [],
            "_model_module": "@jupyter-widgets/controls",
            "_model_module_version": "1.5.0",
            "_model_name": "HTMLModel",
            "_view_count": null,
            "_view_module": "@jupyter-widgets/controls",
            "_view_module_version": "1.5.0",
            "_view_name": "HTMLView",
            "description": "",
            "description_tooltip": null,
            "layout": "IPY_MODEL_80bc630c721445fa816ddeae550976db",
            "placeholder": "​",
            "style": "IPY_MODEL_0117d67860654b8bb16a36a425642549",
            "value": "100%"
          }
        },
        "5ab75eba122e42d2b29ca85d6fd66897": {
          "model_module": "@jupyter-widgets/controls",
          "model_name": "FloatProgressModel",
          "model_module_version": "1.5.0",
          "state": {
            "_dom_classes": [],
            "_model_module": "@jupyter-widgets/controls",
            "_model_module_version": "1.5.0",
            "_model_name": "FloatProgressModel",
            "_view_count": null,
            "_view_module": "@jupyter-widgets/controls",
            "_view_module_version": "1.5.0",
            "_view_name": "ProgressView",
            "bar_style": "success",
            "description": "",
            "description_tooltip": null,
            "layout": "IPY_MODEL_1bf9287b5cae48f1897a589c929eee4b",
            "max": 1057,
            "min": 0,
            "orientation": "horizontal",
            "style": "IPY_MODEL_8db8520eca654c78af9ebe3b405f2003",
            "value": 1057
          }
        },
        "790e97c371ac4d25ac152f0e1fba294b": {
          "model_module": "@jupyter-widgets/controls",
          "model_name": "HTMLModel",
          "model_module_version": "1.5.0",
          "state": {
            "_dom_classes": [],
            "_model_module": "@jupyter-widgets/controls",
            "_model_module_version": "1.5.0",
            "_model_name": "HTMLModel",
            "_view_count": null,
            "_view_module": "@jupyter-widgets/controls",
            "_view_module_version": "1.5.0",
            "_view_name": "HTMLView",
            "description": "",
            "description_tooltip": null,
            "layout": "IPY_MODEL_503008f826a84835b86303690dc7af76",
            "placeholder": "​",
            "style": "IPY_MODEL_fe977e51b29b4cc486e0551e5ba5c3a1",
            "value": " 1057/1057 [5:49:41&lt;00:00, 10.60s/it]"
          }
        },
        "cdb4a52b3b054c33a4c16fea56117fad": {
          "model_module": "@jupyter-widgets/base",
          "model_name": "LayoutModel",
          "model_module_version": "1.2.0",
          "state": {
            "_model_module": "@jupyter-widgets/base",
            "_model_module_version": "1.2.0",
            "_model_name": "LayoutModel",
            "_view_count": null,
            "_view_module": "@jupyter-widgets/base",
            "_view_module_version": "1.2.0",
            "_view_name": "LayoutView",
            "align_content": null,
            "align_items": null,
            "align_self": null,
            "border": null,
            "bottom": null,
            "display": null,
            "flex": null,
            "flex_flow": null,
            "grid_area": null,
            "grid_auto_columns": null,
            "grid_auto_flow": null,
            "grid_auto_rows": null,
            "grid_column": null,
            "grid_gap": null,
            "grid_row": null,
            "grid_template_areas": null,
            "grid_template_columns": null,
            "grid_template_rows": null,
            "height": null,
            "justify_content": null,
            "justify_items": null,
            "left": null,
            "margin": null,
            "max_height": null,
            "max_width": null,
            "min_height": null,
            "min_width": null,
            "object_fit": null,
            "object_position": null,
            "order": null,
            "overflow": null,
            "overflow_x": null,
            "overflow_y": null,
            "padding": null,
            "right": null,
            "top": null,
            "visibility": null,
            "width": null
          }
        },
        "80bc630c721445fa816ddeae550976db": {
          "model_module": "@jupyter-widgets/base",
          "model_name": "LayoutModel",
          "model_module_version": "1.2.0",
          "state": {
            "_model_module": "@jupyter-widgets/base",
            "_model_module_version": "1.2.0",
            "_model_name": "LayoutModel",
            "_view_count": null,
            "_view_module": "@jupyter-widgets/base",
            "_view_module_version": "1.2.0",
            "_view_name": "LayoutView",
            "align_content": null,
            "align_items": null,
            "align_self": null,
            "border": null,
            "bottom": null,
            "display": null,
            "flex": null,
            "flex_flow": null,
            "grid_area": null,
            "grid_auto_columns": null,
            "grid_auto_flow": null,
            "grid_auto_rows": null,
            "grid_column": null,
            "grid_gap": null,
            "grid_row": null,
            "grid_template_areas": null,
            "grid_template_columns": null,
            "grid_template_rows": null,
            "height": null,
            "justify_content": null,
            "justify_items": null,
            "left": null,
            "margin": null,
            "max_height": null,
            "max_width": null,
            "min_height": null,
            "min_width": null,
            "object_fit": null,
            "object_position": null,
            "order": null,
            "overflow": null,
            "overflow_x": null,
            "overflow_y": null,
            "padding": null,
            "right": null,
            "top": null,
            "visibility": null,
            "width": null
          }
        },
        "0117d67860654b8bb16a36a425642549": {
          "model_module": "@jupyter-widgets/controls",
          "model_name": "DescriptionStyleModel",
          "model_module_version": "1.5.0",
          "state": {
            "_model_module": "@jupyter-widgets/controls",
            "_model_module_version": "1.5.0",
            "_model_name": "DescriptionStyleModel",
            "_view_count": null,
            "_view_module": "@jupyter-widgets/base",
            "_view_module_version": "1.2.0",
            "_view_name": "StyleView",
            "description_width": ""
          }
        },
        "1bf9287b5cae48f1897a589c929eee4b": {
          "model_module": "@jupyter-widgets/base",
          "model_name": "LayoutModel",
          "model_module_version": "1.2.0",
          "state": {
            "_model_module": "@jupyter-widgets/base",
            "_model_module_version": "1.2.0",
            "_model_name": "LayoutModel",
            "_view_count": null,
            "_view_module": "@jupyter-widgets/base",
            "_view_module_version": "1.2.0",
            "_view_name": "LayoutView",
            "align_content": null,
            "align_items": null,
            "align_self": null,
            "border": null,
            "bottom": null,
            "display": null,
            "flex": null,
            "flex_flow": null,
            "grid_area": null,
            "grid_auto_columns": null,
            "grid_auto_flow": null,
            "grid_auto_rows": null,
            "grid_column": null,
            "grid_gap": null,
            "grid_row": null,
            "grid_template_areas": null,
            "grid_template_columns": null,
            "grid_template_rows": null,
            "height": null,
            "justify_content": null,
            "justify_items": null,
            "left": null,
            "margin": null,
            "max_height": null,
            "max_width": null,
            "min_height": null,
            "min_width": null,
            "object_fit": null,
            "object_position": null,
            "order": null,
            "overflow": null,
            "overflow_x": null,
            "overflow_y": null,
            "padding": null,
            "right": null,
            "top": null,
            "visibility": null,
            "width": null
          }
        },
        "8db8520eca654c78af9ebe3b405f2003": {
          "model_module": "@jupyter-widgets/controls",
          "model_name": "ProgressStyleModel",
          "model_module_version": "1.5.0",
          "state": {
            "_model_module": "@jupyter-widgets/controls",
            "_model_module_version": "1.5.0",
            "_model_name": "ProgressStyleModel",
            "_view_count": null,
            "_view_module": "@jupyter-widgets/base",
            "_view_module_version": "1.2.0",
            "_view_name": "StyleView",
            "bar_color": null,
            "description_width": ""
          }
        },
        "503008f826a84835b86303690dc7af76": {
          "model_module": "@jupyter-widgets/base",
          "model_name": "LayoutModel",
          "model_module_version": "1.2.0",
          "state": {
            "_model_module": "@jupyter-widgets/base",
            "_model_module_version": "1.2.0",
            "_model_name": "LayoutModel",
            "_view_count": null,
            "_view_module": "@jupyter-widgets/base",
            "_view_module_version": "1.2.0",
            "_view_name": "LayoutView",
            "align_content": null,
            "align_items": null,
            "align_self": null,
            "border": null,
            "bottom": null,
            "display": null,
            "flex": null,
            "flex_flow": null,
            "grid_area": null,
            "grid_auto_columns": null,
            "grid_auto_flow": null,
            "grid_auto_rows": null,
            "grid_column": null,
            "grid_gap": null,
            "grid_row": null,
            "grid_template_areas": null,
            "grid_template_columns": null,
            "grid_template_rows": null,
            "height": null,
            "justify_content": null,
            "justify_items": null,
            "left": null,
            "margin": null,
            "max_height": null,
            "max_width": null,
            "min_height": null,
            "min_width": null,
            "object_fit": null,
            "object_position": null,
            "order": null,
            "overflow": null,
            "overflow_x": null,
            "overflow_y": null,
            "padding": null,
            "right": null,
            "top": null,
            "visibility": null,
            "width": null
          }
        },
        "fe977e51b29b4cc486e0551e5ba5c3a1": {
          "model_module": "@jupyter-widgets/controls",
          "model_name": "DescriptionStyleModel",
          "model_module_version": "1.5.0",
          "state": {
            "_model_module": "@jupyter-widgets/controls",
            "_model_module_version": "1.5.0",
            "_model_name": "DescriptionStyleModel",
            "_view_count": null,
            "_view_module": "@jupyter-widgets/base",
            "_view_module_version": "1.2.0",
            "_view_name": "StyleView",
            "description_width": ""
          }
        },
        "fd2b481d404f465e9a3e2cf647575364": {
          "model_module": "@jupyter-widgets/controls",
          "model_name": "HBoxModel",
          "model_module_version": "1.5.0",
          "state": {
            "_dom_classes": [],
            "_model_module": "@jupyter-widgets/controls",
            "_model_module_version": "1.5.0",
            "_model_name": "HBoxModel",
            "_view_count": null,
            "_view_module": "@jupyter-widgets/controls",
            "_view_module_version": "1.5.0",
            "_view_name": "HBoxView",
            "box_style": "",
            "children": [
              "IPY_MODEL_a96d939bb4bb47c98e05a02829bc91bd",
              "IPY_MODEL_55cee91422ef4dc48c7ed5a6d454eb2c",
              "IPY_MODEL_b596617c344d47178fd250295a7faa07"
            ],
            "layout": "IPY_MODEL_36c08053aafd4ac5b3754c7887f0bcc3"
          }
        },
        "a96d939bb4bb47c98e05a02829bc91bd": {
          "model_module": "@jupyter-widgets/controls",
          "model_name": "HTMLModel",
          "model_module_version": "1.5.0",
          "state": {
            "_dom_classes": [],
            "_model_module": "@jupyter-widgets/controls",
            "_model_module_version": "1.5.0",
            "_model_name": "HTMLModel",
            "_view_count": null,
            "_view_module": "@jupyter-widgets/controls",
            "_view_module_version": "1.5.0",
            "_view_name": "HTMLView",
            "description": "",
            "description_tooltip": null,
            "layout": "IPY_MODEL_e987c97754004e0e9d96bcff29b06de5",
            "placeholder": "​",
            "style": "IPY_MODEL_1e0fdd02a26847209ad650f168abfbcc",
            "value": "100%"
          }
        },
        "55cee91422ef4dc48c7ed5a6d454eb2c": {
          "model_module": "@jupyter-widgets/controls",
          "model_name": "FloatProgressModel",
          "model_module_version": "1.5.0",
          "state": {
            "_dom_classes": [],
            "_model_module": "@jupyter-widgets/controls",
            "_model_module_version": "1.5.0",
            "_model_name": "FloatProgressModel",
            "_view_count": null,
            "_view_module": "@jupyter-widgets/controls",
            "_view_module_version": "1.5.0",
            "_view_name": "ProgressView",
            "bar_style": "success",
            "description": "",
            "description_tooltip": null,
            "layout": "IPY_MODEL_6515680e81494d6a875902797b023939",
            "max": 1057,
            "min": 0,
            "orientation": "horizontal",
            "style": "IPY_MODEL_8f6177a27ad04eca8e3dc0a690fa6ec2",
            "value": 1057
          }
        },
        "b596617c344d47178fd250295a7faa07": {
          "model_module": "@jupyter-widgets/controls",
          "model_name": "HTMLModel",
          "model_module_version": "1.5.0",
          "state": {
            "_dom_classes": [],
            "_model_module": "@jupyter-widgets/controls",
            "_model_module_version": "1.5.0",
            "_model_name": "HTMLModel",
            "_view_count": null,
            "_view_module": "@jupyter-widgets/controls",
            "_view_module_version": "1.5.0",
            "_view_name": "HTMLView",
            "description": "",
            "description_tooltip": null,
            "layout": "IPY_MODEL_a9badc247eba4a83a0e6fe6b6bf37624",
            "placeholder": "​",
            "style": "IPY_MODEL_3a186ad751b444328e557e52c4e88c2b",
            "value": " 1057/1057 [3:37:46&lt;00:00,  9.67s/it]"
          }
        },
        "36c08053aafd4ac5b3754c7887f0bcc3": {
          "model_module": "@jupyter-widgets/base",
          "model_name": "LayoutModel",
          "model_module_version": "1.2.0",
          "state": {
            "_model_module": "@jupyter-widgets/base",
            "_model_module_version": "1.2.0",
            "_model_name": "LayoutModel",
            "_view_count": null,
            "_view_module": "@jupyter-widgets/base",
            "_view_module_version": "1.2.0",
            "_view_name": "LayoutView",
            "align_content": null,
            "align_items": null,
            "align_self": null,
            "border": null,
            "bottom": null,
            "display": null,
            "flex": null,
            "flex_flow": null,
            "grid_area": null,
            "grid_auto_columns": null,
            "grid_auto_flow": null,
            "grid_auto_rows": null,
            "grid_column": null,
            "grid_gap": null,
            "grid_row": null,
            "grid_template_areas": null,
            "grid_template_columns": null,
            "grid_template_rows": null,
            "height": null,
            "justify_content": null,
            "justify_items": null,
            "left": null,
            "margin": null,
            "max_height": null,
            "max_width": null,
            "min_height": null,
            "min_width": null,
            "object_fit": null,
            "object_position": null,
            "order": null,
            "overflow": null,
            "overflow_x": null,
            "overflow_y": null,
            "padding": null,
            "right": null,
            "top": null,
            "visibility": null,
            "width": null
          }
        },
        "e987c97754004e0e9d96bcff29b06de5": {
          "model_module": "@jupyter-widgets/base",
          "model_name": "LayoutModel",
          "model_module_version": "1.2.0",
          "state": {
            "_model_module": "@jupyter-widgets/base",
            "_model_module_version": "1.2.0",
            "_model_name": "LayoutModel",
            "_view_count": null,
            "_view_module": "@jupyter-widgets/base",
            "_view_module_version": "1.2.0",
            "_view_name": "LayoutView",
            "align_content": null,
            "align_items": null,
            "align_self": null,
            "border": null,
            "bottom": null,
            "display": null,
            "flex": null,
            "flex_flow": null,
            "grid_area": null,
            "grid_auto_columns": null,
            "grid_auto_flow": null,
            "grid_auto_rows": null,
            "grid_column": null,
            "grid_gap": null,
            "grid_row": null,
            "grid_template_areas": null,
            "grid_template_columns": null,
            "grid_template_rows": null,
            "height": null,
            "justify_content": null,
            "justify_items": null,
            "left": null,
            "margin": null,
            "max_height": null,
            "max_width": null,
            "min_height": null,
            "min_width": null,
            "object_fit": null,
            "object_position": null,
            "order": null,
            "overflow": null,
            "overflow_x": null,
            "overflow_y": null,
            "padding": null,
            "right": null,
            "top": null,
            "visibility": null,
            "width": null
          }
        },
        "1e0fdd02a26847209ad650f168abfbcc": {
          "model_module": "@jupyter-widgets/controls",
          "model_name": "DescriptionStyleModel",
          "model_module_version": "1.5.0",
          "state": {
            "_model_module": "@jupyter-widgets/controls",
            "_model_module_version": "1.5.0",
            "_model_name": "DescriptionStyleModel",
            "_view_count": null,
            "_view_module": "@jupyter-widgets/base",
            "_view_module_version": "1.2.0",
            "_view_name": "StyleView",
            "description_width": ""
          }
        },
        "6515680e81494d6a875902797b023939": {
          "model_module": "@jupyter-widgets/base",
          "model_name": "LayoutModel",
          "model_module_version": "1.2.0",
          "state": {
            "_model_module": "@jupyter-widgets/base",
            "_model_module_version": "1.2.0",
            "_model_name": "LayoutModel",
            "_view_count": null,
            "_view_module": "@jupyter-widgets/base",
            "_view_module_version": "1.2.0",
            "_view_name": "LayoutView",
            "align_content": null,
            "align_items": null,
            "align_self": null,
            "border": null,
            "bottom": null,
            "display": null,
            "flex": null,
            "flex_flow": null,
            "grid_area": null,
            "grid_auto_columns": null,
            "grid_auto_flow": null,
            "grid_auto_rows": null,
            "grid_column": null,
            "grid_gap": null,
            "grid_row": null,
            "grid_template_areas": null,
            "grid_template_columns": null,
            "grid_template_rows": null,
            "height": null,
            "justify_content": null,
            "justify_items": null,
            "left": null,
            "margin": null,
            "max_height": null,
            "max_width": null,
            "min_height": null,
            "min_width": null,
            "object_fit": null,
            "object_position": null,
            "order": null,
            "overflow": null,
            "overflow_x": null,
            "overflow_y": null,
            "padding": null,
            "right": null,
            "top": null,
            "visibility": null,
            "width": null
          }
        },
        "8f6177a27ad04eca8e3dc0a690fa6ec2": {
          "model_module": "@jupyter-widgets/controls",
          "model_name": "ProgressStyleModel",
          "model_module_version": "1.5.0",
          "state": {
            "_model_module": "@jupyter-widgets/controls",
            "_model_module_version": "1.5.0",
            "_model_name": "ProgressStyleModel",
            "_view_count": null,
            "_view_module": "@jupyter-widgets/base",
            "_view_module_version": "1.2.0",
            "_view_name": "StyleView",
            "bar_color": null,
            "description_width": ""
          }
        },
        "a9badc247eba4a83a0e6fe6b6bf37624": {
          "model_module": "@jupyter-widgets/base",
          "model_name": "LayoutModel",
          "model_module_version": "1.2.0",
          "state": {
            "_model_module": "@jupyter-widgets/base",
            "_model_module_version": "1.2.0",
            "_model_name": "LayoutModel",
            "_view_count": null,
            "_view_module": "@jupyter-widgets/base",
            "_view_module_version": "1.2.0",
            "_view_name": "LayoutView",
            "align_content": null,
            "align_items": null,
            "align_self": null,
            "border": null,
            "bottom": null,
            "display": null,
            "flex": null,
            "flex_flow": null,
            "grid_area": null,
            "grid_auto_columns": null,
            "grid_auto_flow": null,
            "grid_auto_rows": null,
            "grid_column": null,
            "grid_gap": null,
            "grid_row": null,
            "grid_template_areas": null,
            "grid_template_columns": null,
            "grid_template_rows": null,
            "height": null,
            "justify_content": null,
            "justify_items": null,
            "left": null,
            "margin": null,
            "max_height": null,
            "max_width": null,
            "min_height": null,
            "min_width": null,
            "object_fit": null,
            "object_position": null,
            "order": null,
            "overflow": null,
            "overflow_x": null,
            "overflow_y": null,
            "padding": null,
            "right": null,
            "top": null,
            "visibility": null,
            "width": null
          }
        },
        "3a186ad751b444328e557e52c4e88c2b": {
          "model_module": "@jupyter-widgets/controls",
          "model_name": "DescriptionStyleModel",
          "model_module_version": "1.5.0",
          "state": {
            "_model_module": "@jupyter-widgets/controls",
            "_model_module_version": "1.5.0",
            "_model_name": "DescriptionStyleModel",
            "_view_count": null,
            "_view_module": "@jupyter-widgets/base",
            "_view_module_version": "1.2.0",
            "_view_name": "StyleView",
            "description_width": ""
          }
        },
        "2b438cbe82184c15a98d89b2606a0a25": {
          "model_module": "@jupyter-widgets/controls",
          "model_name": "HBoxModel",
          "model_module_version": "1.5.0",
          "state": {
            "_dom_classes": [],
            "_model_module": "@jupyter-widgets/controls",
            "_model_module_version": "1.5.0",
            "_model_name": "HBoxModel",
            "_view_count": null,
            "_view_module": "@jupyter-widgets/controls",
            "_view_module_version": "1.5.0",
            "_view_name": "HBoxView",
            "box_style": "",
            "children": [
              "IPY_MODEL_7c22e67c6e9840a982c29569610f475c",
              "IPY_MODEL_bd17a19a632f4991a7312200009c811d",
              "IPY_MODEL_a92b6a0b36ec4a2d87f3a004933a049d"
            ],
            "layout": "IPY_MODEL_90306add767745c4ad27ae0d191ef5cb"
          }
        },
        "7c22e67c6e9840a982c29569610f475c": {
          "model_module": "@jupyter-widgets/controls",
          "model_name": "HTMLModel",
          "model_module_version": "1.5.0",
          "state": {
            "_dom_classes": [],
            "_model_module": "@jupyter-widgets/controls",
            "_model_module_version": "1.5.0",
            "_model_name": "HTMLModel",
            "_view_count": null,
            "_view_module": "@jupyter-widgets/controls",
            "_view_module_version": "1.5.0",
            "_view_name": "HTMLView",
            "description": "",
            "description_tooltip": null,
            "layout": "IPY_MODEL_d81f6b65b74b4a37a371266c57163282",
            "placeholder": "​",
            "style": "IPY_MODEL_03f9cb1d5c814f27902c0511e2a0e0cf",
            "value": "Map: 100%"
          }
        },
        "bd17a19a632f4991a7312200009c811d": {
          "model_module": "@jupyter-widgets/controls",
          "model_name": "FloatProgressModel",
          "model_module_version": "1.5.0",
          "state": {
            "_dom_classes": [],
            "_model_module": "@jupyter-widgets/controls",
            "_model_module_version": "1.5.0",
            "_model_name": "FloatProgressModel",
            "_view_count": null,
            "_view_module": "@jupyter-widgets/controls",
            "_view_module_version": "1.5.0",
            "_view_name": "ProgressView",
            "bar_style": "success",
            "description": "",
            "description_tooltip": null,
            "layout": "IPY_MODEL_d7562259e61346a7899380a880a77f43",
            "max": 1057,
            "min": 0,
            "orientation": "horizontal",
            "style": "IPY_MODEL_f7eae5018ac24111863b054048200969",
            "value": 1057
          }
        },
        "a92b6a0b36ec4a2d87f3a004933a049d": {
          "model_module": "@jupyter-widgets/controls",
          "model_name": "HTMLModel",
          "model_module_version": "1.5.0",
          "state": {
            "_dom_classes": [],
            "_model_module": "@jupyter-widgets/controls",
            "_model_module_version": "1.5.0",
            "_model_name": "HTMLModel",
            "_view_count": null,
            "_view_module": "@jupyter-widgets/controls",
            "_view_module_version": "1.5.0",
            "_view_name": "HTMLView",
            "description": "",
            "description_tooltip": null,
            "layout": "IPY_MODEL_ac63e2985b4c4b4c8399442d0fdd9f6e",
            "placeholder": "​",
            "style": "IPY_MODEL_d85dba7e7a6e4dbfb03741a058d1d384",
            "value": " 1057/1057 [00:30&lt;00:00, 38.23 examples/s]"
          }
        },
        "90306add767745c4ad27ae0d191ef5cb": {
          "model_module": "@jupyter-widgets/base",
          "model_name": "LayoutModel",
          "model_module_version": "1.2.0",
          "state": {
            "_model_module": "@jupyter-widgets/base",
            "_model_module_version": "1.2.0",
            "_model_name": "LayoutModel",
            "_view_count": null,
            "_view_module": "@jupyter-widgets/base",
            "_view_module_version": "1.2.0",
            "_view_name": "LayoutView",
            "align_content": null,
            "align_items": null,
            "align_self": null,
            "border": null,
            "bottom": null,
            "display": null,
            "flex": null,
            "flex_flow": null,
            "grid_area": null,
            "grid_auto_columns": null,
            "grid_auto_flow": null,
            "grid_auto_rows": null,
            "grid_column": null,
            "grid_gap": null,
            "grid_row": null,
            "grid_template_areas": null,
            "grid_template_columns": null,
            "grid_template_rows": null,
            "height": null,
            "justify_content": null,
            "justify_items": null,
            "left": null,
            "margin": null,
            "max_height": null,
            "max_width": null,
            "min_height": null,
            "min_width": null,
            "object_fit": null,
            "object_position": null,
            "order": null,
            "overflow": null,
            "overflow_x": null,
            "overflow_y": null,
            "padding": null,
            "right": null,
            "top": null,
            "visibility": null,
            "width": null
          }
        },
        "d81f6b65b74b4a37a371266c57163282": {
          "model_module": "@jupyter-widgets/base",
          "model_name": "LayoutModel",
          "model_module_version": "1.2.0",
          "state": {
            "_model_module": "@jupyter-widgets/base",
            "_model_module_version": "1.2.0",
            "_model_name": "LayoutModel",
            "_view_count": null,
            "_view_module": "@jupyter-widgets/base",
            "_view_module_version": "1.2.0",
            "_view_name": "LayoutView",
            "align_content": null,
            "align_items": null,
            "align_self": null,
            "border": null,
            "bottom": null,
            "display": null,
            "flex": null,
            "flex_flow": null,
            "grid_area": null,
            "grid_auto_columns": null,
            "grid_auto_flow": null,
            "grid_auto_rows": null,
            "grid_column": null,
            "grid_gap": null,
            "grid_row": null,
            "grid_template_areas": null,
            "grid_template_columns": null,
            "grid_template_rows": null,
            "height": null,
            "justify_content": null,
            "justify_items": null,
            "left": null,
            "margin": null,
            "max_height": null,
            "max_width": null,
            "min_height": null,
            "min_width": null,
            "object_fit": null,
            "object_position": null,
            "order": null,
            "overflow": null,
            "overflow_x": null,
            "overflow_y": null,
            "padding": null,
            "right": null,
            "top": null,
            "visibility": null,
            "width": null
          }
        },
        "03f9cb1d5c814f27902c0511e2a0e0cf": {
          "model_module": "@jupyter-widgets/controls",
          "model_name": "DescriptionStyleModel",
          "model_module_version": "1.5.0",
          "state": {
            "_model_module": "@jupyter-widgets/controls",
            "_model_module_version": "1.5.0",
            "_model_name": "DescriptionStyleModel",
            "_view_count": null,
            "_view_module": "@jupyter-widgets/base",
            "_view_module_version": "1.2.0",
            "_view_name": "StyleView",
            "description_width": ""
          }
        },
        "d7562259e61346a7899380a880a77f43": {
          "model_module": "@jupyter-widgets/base",
          "model_name": "LayoutModel",
          "model_module_version": "1.2.0",
          "state": {
            "_model_module": "@jupyter-widgets/base",
            "_model_module_version": "1.2.0",
            "_model_name": "LayoutModel",
            "_view_count": null,
            "_view_module": "@jupyter-widgets/base",
            "_view_module_version": "1.2.0",
            "_view_name": "LayoutView",
            "align_content": null,
            "align_items": null,
            "align_self": null,
            "border": null,
            "bottom": null,
            "display": null,
            "flex": null,
            "flex_flow": null,
            "grid_area": null,
            "grid_auto_columns": null,
            "grid_auto_flow": null,
            "grid_auto_rows": null,
            "grid_column": null,
            "grid_gap": null,
            "grid_row": null,
            "grid_template_areas": null,
            "grid_template_columns": null,
            "grid_template_rows": null,
            "height": null,
            "justify_content": null,
            "justify_items": null,
            "left": null,
            "margin": null,
            "max_height": null,
            "max_width": null,
            "min_height": null,
            "min_width": null,
            "object_fit": null,
            "object_position": null,
            "order": null,
            "overflow": null,
            "overflow_x": null,
            "overflow_y": null,
            "padding": null,
            "right": null,
            "top": null,
            "visibility": null,
            "width": null
          }
        },
        "f7eae5018ac24111863b054048200969": {
          "model_module": "@jupyter-widgets/controls",
          "model_name": "ProgressStyleModel",
          "model_module_version": "1.5.0",
          "state": {
            "_model_module": "@jupyter-widgets/controls",
            "_model_module_version": "1.5.0",
            "_model_name": "ProgressStyleModel",
            "_view_count": null,
            "_view_module": "@jupyter-widgets/base",
            "_view_module_version": "1.2.0",
            "_view_name": "StyleView",
            "bar_color": null,
            "description_width": ""
          }
        },
        "ac63e2985b4c4b4c8399442d0fdd9f6e": {
          "model_module": "@jupyter-widgets/base",
          "model_name": "LayoutModel",
          "model_module_version": "1.2.0",
          "state": {
            "_model_module": "@jupyter-widgets/base",
            "_model_module_version": "1.2.0",
            "_model_name": "LayoutModel",
            "_view_count": null,
            "_view_module": "@jupyter-widgets/base",
            "_view_module_version": "1.2.0",
            "_view_name": "LayoutView",
            "align_content": null,
            "align_items": null,
            "align_self": null,
            "border": null,
            "bottom": null,
            "display": null,
            "flex": null,
            "flex_flow": null,
            "grid_area": null,
            "grid_auto_columns": null,
            "grid_auto_flow": null,
            "grid_auto_rows": null,
            "grid_column": null,
            "grid_gap": null,
            "grid_row": null,
            "grid_template_areas": null,
            "grid_template_columns": null,
            "grid_template_rows": null,
            "height": null,
            "justify_content": null,
            "justify_items": null,
            "left": null,
            "margin": null,
            "max_height": null,
            "max_width": null,
            "min_height": null,
            "min_width": null,
            "object_fit": null,
            "object_position": null,
            "order": null,
            "overflow": null,
            "overflow_x": null,
            "overflow_y": null,
            "padding": null,
            "right": null,
            "top": null,
            "visibility": null,
            "width": null
          }
        },
        "d85dba7e7a6e4dbfb03741a058d1d384": {
          "model_module": "@jupyter-widgets/controls",
          "model_name": "DescriptionStyleModel",
          "model_module_version": "1.5.0",
          "state": {
            "_model_module": "@jupyter-widgets/controls",
            "_model_module_version": "1.5.0",
            "_model_name": "DescriptionStyleModel",
            "_view_count": null,
            "_view_module": "@jupyter-widgets/base",
            "_view_module_version": "1.2.0",
            "_view_name": "StyleView",
            "description_width": ""
          }
        },
        "c70c5b40f98c44a6b2d947de99fc7aff": {
          "model_module": "@jupyter-widgets/controls",
          "model_name": "HBoxModel",
          "model_module_version": "1.5.0",
          "state": {
            "_dom_classes": [],
            "_model_module": "@jupyter-widgets/controls",
            "_model_module_version": "1.5.0",
            "_model_name": "HBoxModel",
            "_view_count": null,
            "_view_module": "@jupyter-widgets/controls",
            "_view_module_version": "1.5.0",
            "_view_name": "HBoxView",
            "box_style": "",
            "children": [
              "IPY_MODEL_110a1f2804f24e49990a664a963b20b8",
              "IPY_MODEL_31e737457cf0418ab4cfc430fa2f2714",
              "IPY_MODEL_96f26242f4194067954221adb68736b5"
            ],
            "layout": "IPY_MODEL_41f8816430e84f30b06faf504ab28b6e"
          }
        },
        "110a1f2804f24e49990a664a963b20b8": {
          "model_module": "@jupyter-widgets/controls",
          "model_name": "HTMLModel",
          "model_module_version": "1.5.0",
          "state": {
            "_dom_classes": [],
            "_model_module": "@jupyter-widgets/controls",
            "_model_module_version": "1.5.0",
            "_model_name": "HTMLModel",
            "_view_count": null,
            "_view_module": "@jupyter-widgets/controls",
            "_view_module_version": "1.5.0",
            "_view_name": "HTMLView",
            "description": "",
            "description_tooltip": null,
            "layout": "IPY_MODEL_e5f8e4e516b448628b4f064d4e00ba43",
            "placeholder": "​",
            "style": "IPY_MODEL_f707b3971184467eb54ca51ae2f98155",
            "value": "Map: 100%"
          }
        },
        "31e737457cf0418ab4cfc430fa2f2714": {
          "model_module": "@jupyter-widgets/controls",
          "model_name": "FloatProgressModel",
          "model_module_version": "1.5.0",
          "state": {
            "_dom_classes": [],
            "_model_module": "@jupyter-widgets/controls",
            "_model_module_version": "1.5.0",
            "_model_name": "FloatProgressModel",
            "_view_count": null,
            "_view_module": "@jupyter-widgets/controls",
            "_view_module_version": "1.5.0",
            "_view_name": "ProgressView",
            "bar_style": "success",
            "description": "",
            "description_tooltip": null,
            "layout": "IPY_MODEL_86bb33c1441f4ab2a4bad6efef62ebcb",
            "max": 1057,
            "min": 0,
            "orientation": "horizontal",
            "style": "IPY_MODEL_f17231c765224d5a916d299a8fdd9c96",
            "value": 1057
          }
        },
        "96f26242f4194067954221adb68736b5": {
          "model_module": "@jupyter-widgets/controls",
          "model_name": "HTMLModel",
          "model_module_version": "1.5.0",
          "state": {
            "_dom_classes": [],
            "_model_module": "@jupyter-widgets/controls",
            "_model_module_version": "1.5.0",
            "_model_name": "HTMLModel",
            "_view_count": null,
            "_view_module": "@jupyter-widgets/controls",
            "_view_module_version": "1.5.0",
            "_view_name": "HTMLView",
            "description": "",
            "description_tooltip": null,
            "layout": "IPY_MODEL_2b26404f1f2a47f6b09cf923085856b9",
            "placeholder": "​",
            "style": "IPY_MODEL_6eb876b13d574d718b9bc19caf9e4304",
            "value": " 1057/1057 [00:35&lt;00:00, 31.37 examples/s]"
          }
        },
        "41f8816430e84f30b06faf504ab28b6e": {
          "model_module": "@jupyter-widgets/base",
          "model_name": "LayoutModel",
          "model_module_version": "1.2.0",
          "state": {
            "_model_module": "@jupyter-widgets/base",
            "_model_module_version": "1.2.0",
            "_model_name": "LayoutModel",
            "_view_count": null,
            "_view_module": "@jupyter-widgets/base",
            "_view_module_version": "1.2.0",
            "_view_name": "LayoutView",
            "align_content": null,
            "align_items": null,
            "align_self": null,
            "border": null,
            "bottom": null,
            "display": null,
            "flex": null,
            "flex_flow": null,
            "grid_area": null,
            "grid_auto_columns": null,
            "grid_auto_flow": null,
            "grid_auto_rows": null,
            "grid_column": null,
            "grid_gap": null,
            "grid_row": null,
            "grid_template_areas": null,
            "grid_template_columns": null,
            "grid_template_rows": null,
            "height": null,
            "justify_content": null,
            "justify_items": null,
            "left": null,
            "margin": null,
            "max_height": null,
            "max_width": null,
            "min_height": null,
            "min_width": null,
            "object_fit": null,
            "object_position": null,
            "order": null,
            "overflow": null,
            "overflow_x": null,
            "overflow_y": null,
            "padding": null,
            "right": null,
            "top": null,
            "visibility": null,
            "width": null
          }
        },
        "e5f8e4e516b448628b4f064d4e00ba43": {
          "model_module": "@jupyter-widgets/base",
          "model_name": "LayoutModel",
          "model_module_version": "1.2.0",
          "state": {
            "_model_module": "@jupyter-widgets/base",
            "_model_module_version": "1.2.0",
            "_model_name": "LayoutModel",
            "_view_count": null,
            "_view_module": "@jupyter-widgets/base",
            "_view_module_version": "1.2.0",
            "_view_name": "LayoutView",
            "align_content": null,
            "align_items": null,
            "align_self": null,
            "border": null,
            "bottom": null,
            "display": null,
            "flex": null,
            "flex_flow": null,
            "grid_area": null,
            "grid_auto_columns": null,
            "grid_auto_flow": null,
            "grid_auto_rows": null,
            "grid_column": null,
            "grid_gap": null,
            "grid_row": null,
            "grid_template_areas": null,
            "grid_template_columns": null,
            "grid_template_rows": null,
            "height": null,
            "justify_content": null,
            "justify_items": null,
            "left": null,
            "margin": null,
            "max_height": null,
            "max_width": null,
            "min_height": null,
            "min_width": null,
            "object_fit": null,
            "object_position": null,
            "order": null,
            "overflow": null,
            "overflow_x": null,
            "overflow_y": null,
            "padding": null,
            "right": null,
            "top": null,
            "visibility": null,
            "width": null
          }
        },
        "f707b3971184467eb54ca51ae2f98155": {
          "model_module": "@jupyter-widgets/controls",
          "model_name": "DescriptionStyleModel",
          "model_module_version": "1.5.0",
          "state": {
            "_model_module": "@jupyter-widgets/controls",
            "_model_module_version": "1.5.0",
            "_model_name": "DescriptionStyleModel",
            "_view_count": null,
            "_view_module": "@jupyter-widgets/base",
            "_view_module_version": "1.2.0",
            "_view_name": "StyleView",
            "description_width": ""
          }
        },
        "86bb33c1441f4ab2a4bad6efef62ebcb": {
          "model_module": "@jupyter-widgets/base",
          "model_name": "LayoutModel",
          "model_module_version": "1.2.0",
          "state": {
            "_model_module": "@jupyter-widgets/base",
            "_model_module_version": "1.2.0",
            "_model_name": "LayoutModel",
            "_view_count": null,
            "_view_module": "@jupyter-widgets/base",
            "_view_module_version": "1.2.0",
            "_view_name": "LayoutView",
            "align_content": null,
            "align_items": null,
            "align_self": null,
            "border": null,
            "bottom": null,
            "display": null,
            "flex": null,
            "flex_flow": null,
            "grid_area": null,
            "grid_auto_columns": null,
            "grid_auto_flow": null,
            "grid_auto_rows": null,
            "grid_column": null,
            "grid_gap": null,
            "grid_row": null,
            "grid_template_areas": null,
            "grid_template_columns": null,
            "grid_template_rows": null,
            "height": null,
            "justify_content": null,
            "justify_items": null,
            "left": null,
            "margin": null,
            "max_height": null,
            "max_width": null,
            "min_height": null,
            "min_width": null,
            "object_fit": null,
            "object_position": null,
            "order": null,
            "overflow": null,
            "overflow_x": null,
            "overflow_y": null,
            "padding": null,
            "right": null,
            "top": null,
            "visibility": null,
            "width": null
          }
        },
        "f17231c765224d5a916d299a8fdd9c96": {
          "model_module": "@jupyter-widgets/controls",
          "model_name": "ProgressStyleModel",
          "model_module_version": "1.5.0",
          "state": {
            "_model_module": "@jupyter-widgets/controls",
            "_model_module_version": "1.5.0",
            "_model_name": "ProgressStyleModel",
            "_view_count": null,
            "_view_module": "@jupyter-widgets/base",
            "_view_module_version": "1.2.0",
            "_view_name": "StyleView",
            "bar_color": null,
            "description_width": ""
          }
        },
        "2b26404f1f2a47f6b09cf923085856b9": {
          "model_module": "@jupyter-widgets/base",
          "model_name": "LayoutModel",
          "model_module_version": "1.2.0",
          "state": {
            "_model_module": "@jupyter-widgets/base",
            "_model_module_version": "1.2.0",
            "_model_name": "LayoutModel",
            "_view_count": null,
            "_view_module": "@jupyter-widgets/base",
            "_view_module_version": "1.2.0",
            "_view_name": "LayoutView",
            "align_content": null,
            "align_items": null,
            "align_self": null,
            "border": null,
            "bottom": null,
            "display": null,
            "flex": null,
            "flex_flow": null,
            "grid_area": null,
            "grid_auto_columns": null,
            "grid_auto_flow": null,
            "grid_auto_rows": null,
            "grid_column": null,
            "grid_gap": null,
            "grid_row": null,
            "grid_template_areas": null,
            "grid_template_columns": null,
            "grid_template_rows": null,
            "height": null,
            "justify_content": null,
            "justify_items": null,
            "left": null,
            "margin": null,
            "max_height": null,
            "max_width": null,
            "min_height": null,
            "min_width": null,
            "object_fit": null,
            "object_position": null,
            "order": null,
            "overflow": null,
            "overflow_x": null,
            "overflow_y": null,
            "padding": null,
            "right": null,
            "top": null,
            "visibility": null,
            "width": null
          }
        },
        "6eb876b13d574d718b9bc19caf9e4304": {
          "model_module": "@jupyter-widgets/controls",
          "model_name": "DescriptionStyleModel",
          "model_module_version": "1.5.0",
          "state": {
            "_model_module": "@jupyter-widgets/controls",
            "_model_module_version": "1.5.0",
            "_model_name": "DescriptionStyleModel",
            "_view_count": null,
            "_view_module": "@jupyter-widgets/base",
            "_view_module_version": "1.2.0",
            "_view_name": "StyleView",
            "description_width": ""
          }
        }
      }
    }
  },
  "nbformat": 4,
  "nbformat_minor": 0
}